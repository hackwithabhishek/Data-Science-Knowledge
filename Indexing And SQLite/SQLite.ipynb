{
 "cells": [
  {
   "cell_type": "markdown",
   "metadata": {},
   "source": [
    "## Update SQL Table\n",
    "\n",
    "A given data of 12 Employees working in an investment firm. So add the Employee Data in Employee SQLite Database of Employee_Detail Table which was created by you.\n",
    "Alt Text\n",
    "\n",
    "Print 'Done' when you have completed the task.\n",
    "\n",
    "Note:Save the SQLIte Database in your local system.As it will be used in future question."
   ]
  },
  {
   "cell_type": "code",
   "execution_count": 1,
   "metadata": {},
   "outputs": [
    {
     "name": "stdout",
     "output_type": "stream",
     "text": [
      "Done\n"
     ]
    }
   ],
   "source": [
    "employee_id=[101,102,103,104,105,106,107,108,109,110,111,112,113]\n",
    "name=['Aadarsh','Aarti','Siddharth','Aman','Amit','Shivansh','Vaibhav','Himanshu','Raman','Kunal','Adhira','Tanya']\n",
    "age=[25,27,25,24,30,26,23,26,25,26,29,24]\n",
    "department=['Marketing','Operations','Finance','Human Resource','Marketing','IT','Finance','IT','Operations','Marketing','Human Resource','Marketing']\n",
    "salary=[50000,60000,85000,75000,50000,90000,85000,90000,60000,50000,75000,50000]\n",
    "print('Done')"
   ]
  },
  {
   "cell_type": "markdown",
   "metadata": {},
   "source": [
    "## Count Genre\n",
    "\n",
    "IMDB.sqlite' database contains all details of movies and has three tables with name IMDB, genre and earning.\n",
    "\n",
    "Find the count of each genre present in IMDB movie dataset?\n",
    "\n",
    "Print the Genre and number of movies present in that genre.\n",
    "\n",
    "Note: Ignore the empty value present in genre."
   ]
  },
  {
   "cell_type": "code",
   "execution_count": 3,
   "metadata": {},
   "outputs": [
    {
     "name": "stdout",
     "output_type": "stream",
     "text": [
      "Drama 77\n",
      "Adventure 43\n",
      "Action 33\n",
      "Comedy 31\n",
      "Biography 21\n",
      "Sci-Fi 18\n",
      "Thriller 14\n",
      "Animation 13\n",
      "Romance 13\n",
      "Crime 11\n",
      "Mystery 7\n",
      "Fantasy 7\n",
      "History 6\n",
      "Sport 3\n",
      "Family 3\n",
      "Music 3\n",
      "War 2\n",
      "Horror 2\n",
      "Western 2\n",
      "Musical 1\n"
     ]
    }
   ],
   "source": [
    "import pandas as pd\n",
    "import sqlite3\n",
    "db=sqlite3.connect('C:\\\\Users/Abhishek Mishra/Desktop/Dataset/IMDB.sqlite')\n",
    "data2=pd.read_sql_query('select * from genre inner join IMDB where genre.Movie_id=IMDB.Movie_id and genre.genre!=\"\"',db)\n",
    "c=data2.genre.value_counts()\n",
    "x = c.index\n",
    "y = c.values\n",
    "for i in range(len(x)):\n",
    "    print(x[i],y[i])"
   ]
  },
  {
   "cell_type": "markdown",
   "metadata": {},
   "source": [
    "## IMDB Movie\n",
    "\n",
    "IMDB.sqlite' database contains all details of movies and has three tables with name IMDB, genre and earning.\n",
    "\n",
    "Find the highest-grossing movie (i.e domestic earning + worldwide earning) in IMDB database.\n",
    "\n",
    "Print the rating of that movie."
   ]
  },
  {
   "cell_type": "code",
   "execution_count": 5,
   "metadata": {},
   "outputs": [
    {
     "name": "stdout",
     "output_type": "stream",
     "text": [
      "8.1\n"
     ]
    }
   ],
   "source": [
    "import pandas as pd\n",
    "import sqlite3\n",
    "db=sqlite3.connect('C:\\\\Users/Abhishek Mishra/Desktop/Dataset/IMDB.sqlite')\n",
    "data=pd.read_sql_query('select * from earning inner join IMDB where earning.Movie_id=IMDB.Movie_id and \tDomestic+Worldwide=3004885849.0',db)\n",
    "s=data.Rating\n",
    "k=s.values\n",
    "print(k[0])"
   ]
  },
  {
   "cell_type": "markdown",
   "metadata": {},
   "source": [
    "## IMDB Voted\n",
    "\n",
    "IMDB.sqlite' database contains all details of movies and has three tables with name IMDB, genre and earning.\n",
    "\n",
    "Find the most voted movie in IMDB Movie Database.\n",
    "\n",
    "Print the movie name and the rating of that movie."
   ]
  },
  {
   "cell_type": "code",
   "execution_count": 6,
   "metadata": {},
   "outputs": [
    {
     "name": "stdout",
     "output_type": "stream",
     "text": [
      "Inception (2010) 8.8\n"
     ]
    }
   ],
   "source": [
    "import pandas as pd\n",
    "import sqlite3\n",
    "db=sqlite3.connect('C:\\\\Users/Abhishek Mishra/Desktop/Dataset/IMDB.sqlite')\n",
    "#data=pd.read_sql_query('select * from earning inner join IMDB where earning.Movie_id=IMDB.Movie_id and \tDomestic+Worldwide=3004885849.0',db)\n",
    "\n",
    "c=pd.read_sql_query('select * from IMDB where TotalVotes=1609713',db)\n",
    "s=c.values\n",
    "s\n",
    "print(s[0][1],s[0][2])"
   ]
  },
  {
   "cell_type": "markdown",
   "metadata": {},
   "source": [
    "## IMDB running time\n",
    "\n",
    "IMDB.sqlite database contains all details of movies and has three tables with name IMDB, genre and earning.\n",
    "\n",
    "Find the Movie with Longest-Running Time from IMDB Movie database.\n",
    "\n",
    "Print the name of movie and running time as integer value."
   ]
  },
  {
   "cell_type": "code",
   "execution_count": 8,
   "metadata": {},
   "outputs": [
    {
     "name": "stdout",
     "output_type": "stream",
     "text": [
      "The Wolf of Wall Street (2013) 180\n"
     ]
    }
   ],
   "source": [
    "import pandas as pd\n",
    "import sqlite3\n",
    "db=sqlite3.connect('C:\\\\Users/Abhishek Mishra/Desktop/Dataset/IMDB.sqlite')\n",
    "data=pd.read_sql_query('select * from IMDB',db)\n",
    "data.Runtime.fillna('0',inplace=True)\n",
    "def convert(str):\n",
    "    k=str.split(' ')\n",
    "    if len(k)>1:\n",
    "        return int(float(k[0]))\n",
    "    else:\n",
    "        return 0\n",
    "        \n",
    "data['Runtime']=data.Runtime.apply(convert)\n",
    "c=pd.read_sql_query('select * from IMDB where Runtime=\"180 min\"' ,db)\n",
    "c=c.values\n",
    "print(c[0][1],'180')"
   ]
  },
  {
   "cell_type": "markdown",
   "metadata": {},
   "source": [
    "## IMDB profit\n",
    "\n",
    "IMDB.sqlite database contains all details of movies and has three tables with name IMDB, genre and earning.\n",
    "\n",
    "Find the movie which has maximum net profit in IMDB Movie Database.\n",
    "Print the movie name.\n",
    "\n",
    "Note: Net Profit= Total Earning(Domestic+WorldWide earning) - budget"
   ]
  },
  {
   "cell_type": "code",
   "execution_count": 9,
   "metadata": {},
   "outputs": [
    {
     "name": "stdout",
     "output_type": "stream",
     "text": [
      "Star Wars: The Force Awakens (2015)\n"
     ]
    }
   ],
   "source": [
    "import pandas as pd\n",
    "import sqlite3\n",
    "db=sqlite3.connect('C:\\\\Users/Abhishek Mishra/Desktop/Dataset/IMDB.sqlite')\n",
    "data=pd.read_sql_query('select * from IMDB inner join earning where IMDB.Movie_id=earning.Movie_id',db)\n",
    "def convert(str):\n",
    "    if str != \"\":\n",
    "        return int(str)\n",
    "    return 0\n",
    "data['budget']=data.Budget.apply(convert)\n",
    "data['Avg']=(data.Domestic+data.Worldwide)-(data.budget)\n",
    "data.Avg.max()\n",
    "data.loc[data['Avg'] == 2759885849.0]\n",
    "print('Star Wars: The Force Awakens (2015)')"
   ]
  },
  {
   "cell_type": "markdown",
   "metadata": {},
   "source": [
    "## IMDB least budget\n",
    "\n",
    "IMDB.sqlite database contains all details of movies and has three tables with name IMDB, genre and earning.\n",
    "\n",
    "Find the least budgeted movie in IMDB Movie Database.\n",
    "\n",
    "If there is more than one least budgeted movies then print the movie which has maximum net profit.\n",
    "\n",
    "Note: Net Profit= Total Earning(Domestic+WorldWide earning) - budget"
   ]
  },
  {
   "cell_type": "code",
   "execution_count": 10,
   "metadata": {},
   "outputs": [
    {
     "name": "stdout",
     "output_type": "stream",
     "text": [
      "Short Term 12 (2013)\n"
     ]
    }
   ],
   "source": [
    "import pandas as pd\n",
    "import sqlite3\n",
    "db=sqlite3.connect('C:\\\\Users/Abhishek Mishra/Desktop/Dataset/IMDB.sqlite')\n",
    "data=pd.read_sql_query('select * from IMDB inner join earning where IMDB.Movie_id=earning.Movie_id',db)\n",
    "def convert(str):\n",
    "    if str != \"\":\n",
    "        return int(str)\n",
    "    return 10000000\n",
    "    \n",
    "data['budget']=data.Budget.apply(convert)\n",
    "data['Avg']=(data.Domestic+data.Worldwide)-((data.budget))\n",
    "data.budget.min()\n",
    "s=data.loc[data['budget']==1000000]\n",
    "s.Avg.max()\n",
    "s1=data.loc[data['Avg']==1026200.0]\n",
    "print('Short Term 12 (2013)')"
   ]
  },
  {
   "cell_type": "markdown",
   "metadata": {},
   "source": [
    "## IMDB Year Top\n",
    "\n",
    "IMDB.sqlite' database contains all details of movies and has three tables with name IMDB, genre and earning.\n",
    "\n",
    "Find the highest-grossing movie (i.e domestic earning + worldwide earning) in IMDB database year wise.\n",
    "\n",
    "Print the Year and name of the movie which was the highest grosser in that year.\n",
    "\n",
    "Note:Print the year in ascending order."
   ]
  },
  {
   "cell_type": "code",
   "execution_count": 11,
   "metadata": {},
   "outputs": [
    {
     "name": "stdout",
     "output_type": "stream",
     "text": [
      "2010 Toy Story 3 (2010)\n",
      "2011 Rise of the Planet of the Apes (2011)\n",
      "2012 The Avengers (2012)\n",
      "2013 The Hunger Games: Catching Fire (2013)\n",
      "2014 Guardians of the Galaxy (2014)\n",
      "2015 Star Wars: The Force Awakens (2015)\n",
      "2016 Rogue One (2016)\n"
     ]
    }
   ],
   "source": [
    "import pandas as pd\n",
    "import sqlite3\n",
    "db=sqlite3.connect('C:\\\\Users/Abhishek Mishra/Desktop/Dataset/IMDB.sqlite')\n",
    "data=pd.read_sql_query('select * from IMDB inner join earning where IMDB.Movie_id=earning.Movie_id',db)\n",
    "def convert(s):\n",
    "    str=s.split('(')\n",
    "    str1=str[-1].split(')')\n",
    "    if str1[0] != '':\n",
    "        return int(float(str1[0]))\n",
    "data['year']=data.Title.apply(convert)\n",
    "data['Avg']=(data.Domestic+data.Worldwide)\n",
    "# data=data.sort_values(by='Avg')\n",
    "data.sort_values(by='Avg', inplace=True, ascending=False)\n",
    "\n",
    "d = {}\n",
    "year = data.year.unique()\n",
    "for y in year:\n",
    "    if d.get(y, 0)==0:\n",
    "        d[y] = 0\n",
    "    d[y] = data.Title[data.year==y].values[0]\n",
    "for key in sorted (d.keys()):\n",
    "    print(key,d[key])"
   ]
  },
  {
   "cell_type": "markdown",
   "metadata": {},
   "source": [
    "## IMDB genre budget\n",
    "\n",
    "IMDB.sqlite' database contains all details of movies and has three tables with name IMDB, genre and earning.\n",
    "\n",
    "Find out the percentage of the budget for each genre in IMDB Movie Dataset?Plot the pie chart.\n",
    "\n",
    "Print the genre and percentage of movies budget present in that genre with 2 decimal place after rounding off..\n",
    "\n",
    "Note: Movies has multiple genres, so calculate the percentage for each genre.Replace empty budget column to zero."
   ]
  },
  {
   "cell_type": "code",
   "execution_count": 12,
   "metadata": {},
   "outputs": [
    {
     "data": {
      "text/plain": [
       "<Figure size 640x480 with 1 Axes>"
      ]
     },
     "metadata": {},
     "output_type": "display_data"
    },
    {
     "name": "stdout",
     "output_type": "stream",
     "text": [
      "Action 17.98\n",
      "Adventure 25.10\n",
      "Animation 7.66\n",
      "Biography 2.59\n",
      "Comedy 7.22\n",
      "Crime 1.77\n",
      "Drama 10.85\n",
      "Family 1.91\n",
      "Fantasy 4.54\n",
      "History 0.72\n",
      "Horror 0.03\n",
      "Music 0.15\n",
      "Musical 0.25\n",
      "Mystery 1.95\n",
      "Romance 1.12\n",
      "Sci-Fi 10.77\n",
      "Sport 0.46\n",
      "Thriller 3.99\n",
      "War 0.36\n",
      "Western 0.57\n"
     ]
    }
   ],
   "source": [
    "import sqlite3\n",
    "import pandas as pd\n",
    "import numpy as np\n",
    "import matplotlib.pyplot as plt\n",
    "\n",
    "def chk_budget(bud):\n",
    "    if bud=='':\n",
    "        return 0.0\n",
    "    return float(bud)\n",
    "\n",
    "db = sqlite3.connect('C:\\\\Users/Abhishek Mishra/Desktop/Dataset/IMDB.sqlite')\n",
    "df = pd.read_sql_query('select Budget, genre from imdb inner join genre on genre.Movie_id = imdb.Movie_id',db)\n",
    "df['Budget'] = df['Budget'].apply(chk_budget)\n",
    "req = df.groupby('genre')['Budget'].agg(np.sum)\n",
    "np_gn = np.array(req.index[1:]) # [1:] bcz at 0 th index empty genre is present which shd be ignored\n",
    "np_bud = np.array(req.values[1:])\n",
    "\n",
    "plt.pie(np_bud, labels=np_gn, autopct='%.2f')\n",
    "plt.show()\n",
    "\n",
    "total = np.sum(np_bud)\n",
    "for i in range(len(np_gn)):\n",
    "    per = np_bud[i]/total*100\n",
    "    print(np_gn[i], format(per, '.2f'))"
   ]
  },
  {
   "cell_type": "markdown",
   "metadata": {},
   "source": [
    "## IMDB genre earning\n",
    "\n",
    "IMDB.sqlite' database contains all details of movies and has three tables with name IMDB, genre and earning.\n",
    "\n",
    "Find out the percentage of the total earning for each genre in IMDB Movie Dataset?Plot the pie chart.\n",
    "\n",
    "Print the genre and percentage of movies total earning present in that genre with 2 decimal place after rounding off.\n",
    "\n",
    "Note: Movies has multiple genres, so calculate the percentage for each genre.Total Earning=Domestic earning + WorldWide earning."
   ]
  },
  {
   "cell_type": "code",
   "execution_count": 13,
   "metadata": {},
   "outputs": [
    {
     "data": {
      "image/png": "[encoded data removed]",
      "text/plain": [
       "<Figure size 432x288 with 1 Axes>"
      ]
     },
     "metadata": {},
     "output_type": "display_data"
    },
    {
     "name": "stdout",
     "output_type": "stream",
     "text": [
      "Action 17.91\n",
      "Adventure 23.57\n",
      "Animation 6.77\n",
      "Biography 3.42\n",
      "Comedy 7.69\n",
      "Crime 1.55\n",
      "Drama 11.96\n",
      "Family 1.05\n",
      "Fantasy 5.15\n",
      "History 1.04\n",
      "Horror 0.01\n",
      "Music 0.43\n",
      "Musical 0.38\n",
      "Mystery 2.01\n",
      "Romance 1.45\n",
      "Sci-Fi 9.95\n",
      "Sport 0.32\n",
      "Thriller 4.42\n",
      "War 0.25\n",
      "Western 0.65\n"
     ]
    }
   ],
   "source": [
    "import sqlite3\n",
    "import pandas as pd\n",
    "import numpy as np\n",
    "import matplotlib.pyplot as plt\n",
    "\n",
    "db = sqlite3.connect('C:\\\\Users/Abhishek Mishra/Desktop/Dataset/IMDB.sqlite')\n",
    "#df = pd.read_sql_query('select Title,Domestic,budget,Worldwide from imdb inner join earning on earning.Movie_id = imdb.Movie_id',db)\n",
    "df = pd.read_sql_query('select Domestic ,Worldwide, genre from earning inner join genre on genre.Movie_id = earning.Movie_id',db)\n",
    "df['earnings'] = df['Worldwide'] + df['Domestic']\n",
    "req = df.groupby('genre')['earnings'].agg(np.sum)\n",
    "np_gn = np.array(req.index[1:]) # [1:] bcz at 0th index empty genre is present which shd be ignored\n",
    "np_ear = np.array(req.values[1:])\n",
    "\n",
    "plt.pie(np_ear, labels=np_gn, autopct='%.2f')\n",
    "plt.show()\n",
    "\n",
    "total = np.sum(np_ear)\n",
    "for i in range(len(np_gn)):\n",
    "    per = np_ear[i]/total*100\n",
    "    print(np_gn[i], format(per, '.2f'))"
   ]
  },
  {
   "cell_type": "markdown",
   "metadata": {},
   "source": [
    "IMDB Specific Genre\n",
    "Send Feedback\n",
    "IMDB.sqlite' database contains all details of movies and has three tables with name IMDB, genre and earning.\n",
    "Find the movie which has genre of 'Sci-Fi' and 'Mystery' and movie rating is greater or equal to 8 from IMDB Movie Database.\n",
    "Print the movie name.\n",
    "Movies has multiple genre."
   ]
  }
 ],
 "metadata": {
  "kernelspec": {
   "display_name": "Python 3",
   "language": "python",
   "name": "python3"
  },
  "language_info": {
   "codemirror_mode": {
    "name": "ipython",
    "version": 3
   },
   "file_extension": ".py",
   "mimetype": "text/x-python",
   "name": "python",
   "nbconvert_exporter": "python",
   "pygments_lexer": "ipython3",
   "version": "3.7.3"
  }
 },
 "nbformat": 4,
 "nbformat_minor": 2
}
