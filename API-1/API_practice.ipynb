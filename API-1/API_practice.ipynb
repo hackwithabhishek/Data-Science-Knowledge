{
 "cells": [
  {
   "cell_type": "code",
   "execution_count": 16,
   "metadata": {},
   "outputs": [
    {
     "name": "stdout",
     "output_type": "stream",
     "text": [
      "200\n",
      "None\n",
      "{\"message\": \"success\", \"iss_position\": {\"longitude\": \"46.8135\", \"latitude\": \"-43.4417\"}, \"timestamp\": 1591989685}\n",
      "http://api.open-notify.org/iss-now.json\n",
      "nginx/1.10.3\n"
     ]
    }
   ],
   "source": [
    "import requests\n",
    "response = requests.get('http://api.open-notify.org/iss-now.json')\n",
    "print(response.status_code)\n",
    "print(response.encoding)\n",
    "print(response.text)\n",
    "print(response.url)\n",
    "header_info = response.headers\n",
    "print(header_info['Server']) #Keys are case insensitive"
   ]
  },
  {
   "cell_type": "code",
   "execution_count": 1,
   "metadata": {},
   "outputs": [
    {
     "name": "stdout",
     "output_type": "stream",
     "text": [
      "text/html\n"
     ]
    }
   ],
   "source": [
    "import requests\n",
    "response = requests.get('https://codingninjas.in/api/v3/events')\n",
    "header_info = response.headers\n",
    "print(header_info['Content-Type']) #Keys are case insensitive"
   ]
  },
  {
   "cell_type": "code",
   "execution_count": 5,
   "metadata": {},
   "outputs": [
    {
     "name": "stdout",
     "output_type": "stream",
     "text": [
      "affenpinscher 0\n",
      "african 0\n",
      "airedale 0\n",
      "akita 0\n",
      "appenzeller 0\n",
      "australian 1\n",
      "basenji 0\n",
      "beagle 0\n",
      "bluetick 0\n",
      "borzoi 0\n",
      "bouvier 0\n",
      "boxer 0\n",
      "brabancon 0\n",
      "briard 0\n",
      "buhund 1\n",
      "bulldog 3\n",
      "bullterrier 1\n",
      "cairn 0\n",
      "cattledog 1\n",
      "chihuahua 0\n",
      "chow 0\n",
      "clumber 0\n",
      "cockapoo 0\n",
      "collie 1\n",
      "coonhound 0\n",
      "corgi 1\n",
      "cotondetulear 0\n",
      "dachshund 0\n",
      "dalmatian 0\n",
      "dane 1\n",
      "deerhound 1\n",
      "dhole 0\n",
      "dingo 0\n",
      "doberman 0\n",
      "elkhound 1\n",
      "entlebucher 0\n",
      "eskimo 0\n",
      "finnish 1\n",
      "frise 1\n",
      "germanshepherd 0\n",
      "greyhound 1\n",
      "groenendael 0\n",
      "havanese 0\n",
      "hound 7\n",
      "husky 0\n",
      "keeshond 0\n",
      "kelpie 0\n",
      "komondor 0\n",
      "kuvasz 0\n",
      "labrador 0\n",
      "leonberg 0\n",
      "lhasa 0\n",
      "malamute 0\n",
      "malinois 0\n",
      "maltese 0\n",
      "mastiff 3\n",
      "mexicanhairless 0\n",
      "mix 0\n",
      "mountain 2\n",
      "newfoundland 0\n",
      "otterhound 0\n",
      "ovcharka 1\n",
      "papillon 0\n",
      "pekinese 0\n",
      "pembroke 0\n",
      "pinscher 1\n",
      "pitbull 0\n",
      "pointer 2\n",
      "pomeranian 0\n",
      "poodle 3\n",
      "pug 0\n",
      "puggle 0\n",
      "pyrenees 0\n",
      "redbone 0\n",
      "retriever 4\n",
      "ridgeback 1\n",
      "rottweiler 0\n",
      "saluki 0\n",
      "samoyed 0\n",
      "schipperke 0\n",
      "schnauzer 2\n",
      "setter 3\n",
      "sheepdog 2\n",
      "shiba 0\n",
      "shihtzu 0\n",
      "spaniel 7\n",
      "springer 1\n",
      "stbernard 0\n",
      "terrier 21\n",
      "vizsla 0\n",
      "waterdog 1\n",
      "weimaraner 0\n",
      "whippet 0\n",
      "wolfhound 1\n"
     ]
    }
   ],
   "source": [
    "import requests\n",
    "p = requests.get('https://dog.ceo/api/breeds/list/all')\n",
    "python_data = p.json()\n",
    "#print(python_data)\n",
    "\n",
    "# Print all breeds and length of its subbreeds \n",
    "for key, val in python_data['message'].items():\n",
    "    print(key, len(val))"
   ]
  },
  {
   "cell_type": "code",
   "execution_count": 7,
   "metadata": {},
   "outputs": [
    {
     "name": "stdout",
     "output_type": "stream",
     "text": [
      "blenheim\n",
      "brittany\n",
      "cocker\n",
      "irish\n",
      "japanese\n",
      "sussex\n",
      "welsh\n"
     ]
    }
   ],
   "source": [
    "# Print all breeds of spaniel\n",
    "for breed in python_data['message']['spaniel']:\n",
    "    print(breed)"
   ]
  },
  {
   "cell_type": "markdown",
   "metadata": {},
   "source": [
    "### Print all sub-breeds of hound"
   ]
  },
  {
   "cell_type": "code",
   "execution_count": 10,
   "metadata": {},
   "outputs": [
    {
     "name": "stdout",
     "output_type": "stream",
     "text": [
      "afghan\n",
      "basset\n",
      "blood\n",
      "english\n",
      "ibizan\n",
      "plott\n",
      "walker\n"
     ]
    }
   ],
   "source": [
    "import requests\n",
    "response = requests.get('https://dog.ceo/api/breeds/list/all')\n",
    "python_data = response.json()\n",
    "for sub_br in python_data['message']['hound']:\n",
    "    print(sub_br)"
   ]
  },
  {
   "cell_type": "markdown",
   "metadata": {},
   "source": [
    "### Print the count of total sub-breeds of poodle"
   ]
  },
  {
   "cell_type": "code",
   "execution_count": 13,
   "metadata": {},
   "outputs": [
    {
     "name": "stdout",
     "output_type": "stream",
     "text": [
      "3\n"
     ]
    }
   ],
   "source": [
    "import requests\n",
    "response = requests.get('https://dog.ceo/api/breeds/list/all')\n",
    "python_data = response.json()\n",
    "print(len(python_data['message']['poodle']))"
   ]
  },
  {
   "cell_type": "markdown",
   "metadata": {},
   "source": [
    "### Print name of all online courses offered by Coding Ninjas. You can fetch the data using their open API :\n",
    "### https://api.codingninjas.com/api/v3/courses "
   ]
  },
  {
   "cell_type": "code",
   "execution_count": 15,
   "metadata": {},
   "outputs": [
    {
     "name": "stdout",
     "output_type": "stream",
     "text": [
      "C++ Foundation with Data Structures\n",
      "Machine Learning Course\n",
      "Ninja Competitive Programmer Track\n",
      "Advanced  Front-End Web Development with React\n",
      "Ninja Android Developer Career Track \n",
      "JAVA Foundation with Data Structures\n",
      "Full Stack Web Development\n",
      "Data Science & Machine Learning Complete\n",
      "Interview Preparation Course\n",
      "Ninja  Web Developer Career Track - NodeJS & ReactJs\n",
      "Competitive Programming Course\n",
      "Ninja  Web Developer Career Track - NodeJS\n",
      "Ninja Data Scientist Career Track\n",
      "Python Foundation with Data Structures\n",
      "Android Development with Kotlin\n",
      "Aptitude Preparation Course\n",
      "Ninja Machine Learning Engineer Career Track\n"
     ]
    }
   ],
   "source": [
    "import requests\n",
    "response = requests.get('https://api.codingninjas.com/api/v3/courses')\n",
    "python_data = response.json()\n",
    "all_courses = python_data['data']['courses'] # list of dictionary\n",
    "for course in all_courses:\n",
    "    if course['available_online']:\n",
    "        print(course['name'])"
   ]
  },
  {
   "cell_type": "markdown",
   "metadata": {},
   "source": [
    "### Print name of all the Coding Ninjas events (given in past registered events) which have word “Workshop” in their name.\n",
    "### Data can be fetched from this URL : https://api.codingninjas.com/api/v3/events"
   ]
  },
  {
   "cell_type": "code",
   "execution_count": 19,
   "metadata": {},
   "outputs": [],
   "source": [
    "import requests\n",
    "response = requests.get('https://api.codingninjas.com/api/v3/events')\n",
    "python_data = response.json()\n",
    "all_events = python_data['data']['past_registered_events'] # list of dictionary\n",
    "for event in all_events:\n",
    "    if \"Workshop\" in event['name']:\n",
    "        print(event['name'])"
   ]
  },
  {
   "cell_type": "markdown",
   "metadata": {},
   "source": [
    "### Print the title of course with id=19.\n",
    "### URL : https://codingninjas.in/api/v3/courses/"
   ]
  },
  {
   "cell_type": "code",
   "execution_count": 29,
   "metadata": {},
   "outputs": [
    {
     "name": "stdout",
     "output_type": "stream",
     "text": [
      "Programming Foundation DS & Algo + Machine Learning\n"
     ]
    }
   ],
   "source": [
    "import requests\n",
    "response = requests.get('https://api.codingninjas.com/api/v3/courses')\n",
    "python_data = response.json()\n",
    "all_courses = python_data['data']['courses']\n",
    "for course in all_courses:\n",
    "    if(course['id']==19):\n",
    "        print(course['title'])\n"
   ]
  },
  {
   "cell_type": "markdown",
   "metadata": {},
   "source": [
    "### Count the total number of cities of country AU from this URL : https://api.openaq.org/v1/cities/\n"
   ]
  },
  {
   "cell_type": "code",
   "execution_count": 33,
   "metadata": {},
   "outputs": [
    {
     "name": "stdout",
     "output_type": "stream",
     "text": [
      "57\n"
     ]
    }
   ],
   "source": [
    "import requests\n",
    "response = requests.get('https://api.openaq.org/v1/cities', params={\"country\":\"AU\"})\n",
    "py_data = response.json() # convert JSON to python\n",
    "print(len(py_data['results']))"
   ]
  },
  {
   "cell_type": "markdown",
   "metadata": {},
   "source": [
    "### Print first 5 cities from country “BE”. Fetch the result from given URL.\n",
    "### Order the results by city.\n",
    "### URL - https://api.openaq.org/v1/cities\n",
    "### Documentation - https://docs.openaq.org/"
   ]
  },
  {
   "cell_type": "code",
   "execution_count": 37,
   "metadata": {},
   "outputs": [
    {
     "name": "stdout",
     "output_type": "stream",
     "text": [
      "Antwerpen\n",
      "Brabant wallon\n",
      "Brussels\n",
      "Brussels-Capital Region\n",
      "Flanders\n"
     ]
    }
   ],
   "source": [
    "import requests\n",
    "response = requests.get('https://api.openaq.org/v1/cities', params={\"country\":\"BE\", 'limit':5})\n",
    "#print(response.url) # open this link to view response\n",
    "py_data = response.json() # convert JSON to python\n",
    "for dict_city in py_data['results']:\n",
    "    print(dict_city['city'])\n",
    "    "
   ]
  },
  {
   "cell_type": "markdown",
   "metadata": {},
   "source": [
    "### Make an API call to - https://www.metaweather.com/api/location/search/\n",
    "### Search for \"USA\" and print its woeid (Where On Earth ID)\n",
    "### https://www.metaweather.com/api/"
   ]
  },
  {
   "cell_type": "code",
   "execution_count": 40,
   "metadata": {},
   "outputs": [
    {
     "name": "stdout",
     "output_type": "stream",
     "text": [
      "1132447\n"
     ]
    }
   ],
   "source": [
    "import requests\n",
    "response = requests.get('https://www.metaweather.com/api/location/search/', params={'query':'USA'})\n",
    "#print(response.url) # open this link to view response\n",
    "py_data = response.json() # convert JSON to python\n",
    "print(py_data[0]['woeid'])    "
   ]
  },
  {
   "cell_type": "code",
   "execution_count": 41,
   "metadata": {},
   "outputs": [
    {
     "name": "stdout",
     "output_type": "stream",
     "text": [
      "https://api.nasa.gov/planetary/apod?api_key=DEMO_KEY\n"
     ]
    }
   ],
   "source": [
    "import requests\n",
    "response = requests.get('https://api.nasa.gov/planetary/apod', params={'api_key':'DEMO_KEY'})\n",
    "print(response.url) # open this link to view response"
   ]
  },
  {
   "cell_type": "markdown",
   "metadata": {},
   "source": [
    "### Find name of holiday on 2nd October 2019 in country India.\n",
    "### You can read the documentation here : https://holidayapi.com/"
   ]
  },
  {
   "cell_type": "code",
   "execution_count": 46,
   "metadata": {},
   "outputs": [
    {
     "name": "stdout",
     "output_type": "stream",
     "text": [
      "Mahatma Gandhi Jayanti\n"
     ]
    }
   ],
   "source": [
    "import requests\n",
    "response = requests.get('https://holidayapi.com/v1/holidays', params={'country':'IN', 'key':'8235e750-b12a-4b18-93f9-5f3efa16a3cd','month':10, 'day':2,'year':2019})\n",
    "#print(response.url) # open this link to view response\n",
    "py_data = response.json()\n",
    "print(py_data['holidays'][0]['name'])"
   ]
  },
  {
   "cell_type": "markdown",
   "metadata": {},
   "source": [
    "### Post requests"
   ]
  },
  {
   "cell_type": "code",
   "execution_count": 7,
   "metadata": {},
   "outputs": [
    {
     "name": "stdout",
     "output_type": "stream",
     "text": [
      "200\n",
      "{\n",
      "  \"args\": {}, \n",
      "  \"data\": \"\", \n",
      "  \"files\": {}, \n",
      "  \"form\": {\n",
      "    \"ke2\": \"val2\", \n",
      "    \"key1\": [\n",
      "      \"val1\", \n",
      "      \"val3\"\n",
      "    ]\n",
      "  }, \n",
      "  \"headers\": {\n",
      "    \"Accept\": \"*/*\", \n",
      "    \"Accept-Encoding\": \"gzip, deflate\", \n",
      "    \"Content-Length\": \"28\", \n",
      "    \"Content-Type\": \"application/x-www-form-urlencoded\", \n",
      "    \"Host\": \"httpbin.org\", \n",
      "    \"User-Agent\": \"python-requests/2.22.0\", \n",
      "    \"X-Amzn-Trace-Id\": \"Root=1-5ee5b044-3dfdc93d9950819e1c4bf165\", \n",
      "    \"X-B3-Parentspanid\": \"451042f96411f773\", \n",
      "    \"X-B3-Sampled\": \"0\", \n",
      "    \"X-B3-Spanid\": \"85d036488a1fceba\", \n",
      "    \"X-B3-Traceid\": \"d1a0058b7e30fab0451042f96411f773\", \n",
      "    \"X-Envoy-External-Address\": \"10.100.18.113\", \n",
      "    \"X-Forwarded-Client-Cert\": \"By=spiffe://cluster.local/ns/httpbin-istio/sa/httpbin;Hash=d2d5792a1b305235c4fd0f8bd517e6572223ccc31b8a1ef9e58ea31ded827e5c;Subject=\\\"\\\";URI=spiffe://cluster.local/ns/istio-system/sa/istio-ingressgateway-service-account\"\n",
      "  }, \n",
      "  \"json\": null, \n",
      "  \"origin\": \"157.39.223.66,10.100.18.113\", \n",
      "  \"url\": \"http://httpbin.org/post\"\n",
      "}\n",
      "\n"
     ]
    }
   ],
   "source": [
    "import requests\n",
    "#res = requests.post('http://httpbin.org/post',data = {'key1':['val1','val3'], 'ke2':'val2'})\n",
    "res = requests.post('http://httpbin.org/post',data = [('key1','val1'),('key1','val3'), ('ke2','val2')])\n",
    "print(res.status_code)\n",
    "print(res.text)"
   ]
  },
  {
   "cell_type": "code",
   "execution_count": null,
   "metadata": {},
   "outputs": [],
   "source": []
  }
 ],
 "metadata": {
  "kernelspec": {
   "display_name": "Python 3",
   "language": "python",
   "name": "python3"
  },
  "language_info": {
   "codemirror_mode": {
    "name": "ipython",
    "version": 3
   },
   "file_extension": ".py",
   "mimetype": "text/x-python",
   "name": "python",
   "nbconvert_exporter": "python",
   "pygments_lexer": "ipython3",
   "version": "3.7.3"
  }
 },
 "nbformat": 4,
 "nbformat_minor": 2
}
