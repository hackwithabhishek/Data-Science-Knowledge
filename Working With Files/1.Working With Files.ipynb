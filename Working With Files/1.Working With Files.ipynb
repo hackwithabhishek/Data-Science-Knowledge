{
 "cells": [
  {
   "cell_type": "markdown",
   "metadata": {},
   "source": [
    "# Print 100 Bytes"
   ]
  },
  {
   "cell_type": "code",
   "execution_count": 17,
   "metadata": {},
   "outputs": [
    {
     "name": "stdout",
     "output_type": "stream",
     "text": [
      "Lorem ipsum dolor sit amet, consectetur adipiscing elit. Vivamus condimentum sagittis lacus, laoreet\n"
     ]
    }
   ],
   "source": [
    "file_open=open(\"C:/Users/Abhishek Mishra/Desktop/Dataset/Sample.txt\",'r')\n",
    "file_data=file_open.read(100)\n",
    "print(file_data)"
   ]
  },
  {
   "cell_type": "markdown",
   "metadata": {},
   "source": [
    "# Print 5 lines"
   ]
  },
  {
   "cell_type": "code",
   "execution_count": 18,
   "metadata": {},
   "outputs": [
    {
     "name": "stdout",
     "output_type": "stream",
     "text": [
      "Lorem ipsum dolor sit amet, consectetur adipiscing elit. Vivamus condimentum sagittis lacus, laoreet luctus ligula laoreet ut. Vestibulum ullamcorper accumsan velit vel vehicula. Proin tempor lacus arcu. Nunc at elit condimentum, semper nisi et, condimentum mi. In venenatis blandit nibh at sollicitudin. Vestibulum dapibus mauris at orci maximus pellentesque. Nullam id elementum ipsum. Suspendisse cursus lobortis viverra. Proin et erat at mauris tincidunt porttitor vitae ac dui.\n",
      "\n",
      "Donec vulputate lorem tortor, nec fermentum nibh bibendum vel. Lorem ipsum dolor sit amet, consectetur adipiscing elit. Praesent dictum luctus massa, non euismod lacus. Pellentesque condimentum dolor est, ut dapibus lectus luctus ac. Ut sagittis commodo arcu. Integer nisi nulla, facilisis sit amet nulla quis, eleifend suscipit purus. Class aptent taciti sociosqu ad litora torquent per conubia nostra, per inceptos himenaeos. Aliquam euismod ultrices lorem, sit amet imperdiet est tincidunt vel. Phasellus dictum justo sit amet ligula varius aliquet auctor et metus. Fusce vitae tortor et nisi pulvinar vestibulum eget in risus. Donec ante ex, placerat a lorem eget, ultricies bibendum purus. Nam sit amet neque non ante laoreet rutrum. Nullam aliquet commodo urna, sed ullamcorper odio feugiat id. Mauris nisi sapien, porttitor in condimentum nec, venenatis eu urna. Pellentesque feugiat diam est, at rhoncus orci porttitor non.\n",
      "\n",
      "Nulla luctus sem sit amet nisi consequat, id ornare ipsum dignissim. Sed elementum elit nibh, eu condimentum orci viverra quis. Aenean suscipit vitae felis non suscipit. Suspendisse pharetra turpis non eros semper dictum. Etiam tincidunt venenatis venenatis. Praesent eget gravida lorem, ut congue diam. Etiam facilisis elit at porttitor egestas. Praesent consequat, velit non vulputate convallis, ligula diam sagittis urna, in venenatis nisi justo ut mauris. Vestibulum posuere sollicitudin mi, et vulputate nisl fringilla non. Nulla ornare pretium velit a euismod. Nunc sagittis venenatis vestibulum. Nunc sodales libero a est ornare ultricies. Sed sed leo sed orci pellentesque ultrices. Mauris sollicitudin, sem quis placerat ornare, velit arcu convallis ligula, pretium finibus nisl sapien vel sem. Vivamus sit amet tortor id lorem consequat hendrerit. Nullam at dui risus.\n",
      "\n",
      "Vestibulum ante ipsum primis in faucibus orci luctus et ultrices posuere cubilia Curae; Lorem ipsum dolor sit amet, consectetur adipiscing elit. Sed feugiat semper velit consequat facilisis. Etiam facilisis justo non iaculis dictum. Fusce turpis neque, pharetra ut odio eu, hendrerit rhoncus lacus. Nunc orci felis, imperdiet vel interdum quis, porta eu ipsum. Pellentesque dictum sem lacinia, auctor dui in, malesuada nunc. Maecenas sit amet mollis eros. Proin fringilla viverra ligula, sollicitudin viverra ante sollicitudin congue. Donec mollis felis eu libero malesuada, et lacinia risus interdum.\n",
      "\n",
      "Etiam vitae accumsan augue. Ut urna orci, malesuada ut nisi a, condimentum gravida magna. Nulla bibendum ex in vulputate sagittis. Nulla facilisi. Nullam faucibus et metus ac consequat. Quisque tempor eros velit, id mattis nibh aliquet a. Aenean tempor elit ut finibus auctor. Sed at imperdiet mauris. Vestibulum pharetra non lacus sed pulvinar. Sed pellentesque magna a eros volutpat ullamcorper. In hac habitasse platea dictumst. Donec ipsum mi, feugiat in eros sed, varius lacinia turpis. Donec vulputate tincidunt dui ac laoreet. Sed in eros dui. Pellentesque placerat tristique ligula eu finibus. Proin nec faucibus felis, eu commodo ipsum.\n",
      "\n"
     ]
    }
   ],
   "source": [
    "file_open=open(\"C:/Users/Abhishek Mishra/Desktop/Dataset/Sample.txt\",'r')\n",
    "for i in range(0,5,1):\n",
    "    print(file_open.readline())"
   ]
  },
  {
   "cell_type": "markdown",
   "metadata": {},
   "source": [
    "# Print 5 Lines (Readlines)"
   ]
  },
  {
   "cell_type": "code",
   "execution_count": 19,
   "metadata": {},
   "outputs": [
    {
     "name": "stdout",
     "output_type": "stream",
     "text": [
      "Lorem ipsum dolor sit amet, consectetur adipiscing elit. Vivamus condimentum sagittis lacus, laoreet luctus ligula laoreet ut. Vestibulum ullamcorper accumsan velit vel vehicula. Proin tempor lacus arcu. Nunc at elit condimentum, semper nisi et, condimentum mi. In venenatis blandit nibh at sollicitudin. Vestibulum dapibus mauris at orci maximus pellentesque. Nullam id elementum ipsum. Suspendisse cursus lobortis viverra. Proin et erat at mauris tincidunt porttitor vitae ac dui.\n",
      "\n",
      "Integer eu hendrerit diam, sed consectetur nunc. Aliquam a sem vitae leo fermentum faucibus quis at sem. Etiam blandit, quam quis fermentum varius, ante urna ultricies lectus, vel pellentesque ligula arcu nec elit. Donec placerat ante in enim scelerisque pretium. Donec et rhoncus erat. Aenean tempor nisi vitae augue tincidunt luctus. Nam condimentum dictum ante, et laoreet neque pellentesque id. Curabitur consectetur cursus neque aliquam porta. Ut interdum nunc nec nibh vestibulum, in sagittis metus facilisis. Pellentesque feugiat condimentum metus. Etiam venenatis quam at ante rhoncus vestibulum. Maecenas suscipit congue pellentesque. Vestibulum suscipit scelerisque fermentum. Nulla iaculis risus ac vulputate porttitor.\n",
      "\n",
      "Donec vulputate lorem tortor, nec fermentum nibh bibendum vel. Lorem ipsum dolor sit amet, consectetur adipiscing elit. Praesent dictum luctus massa, non euismod lacus. Pellentesque condimentum dolor est, ut dapibus lectus luctus ac. Ut sagittis commodo arcu. Integer nisi nulla, facilisis sit amet nulla quis, eleifend suscipit purus. Class aptent taciti sociosqu ad litora torquent per conubia nostra, per inceptos himenaeos. Aliquam euismod ultrices lorem, sit amet imperdiet est tincidunt vel. Phasellus dictum justo sit amet ligula varius aliquet auctor et metus. Fusce vitae tortor et nisi pulvinar vestibulum eget in risus. Donec ante ex, placerat a lorem eget, ultricies bibendum purus. Nam sit amet neque non ante laoreet rutrum. Nullam aliquet commodo urna, sed ullamcorper odio feugiat id. Mauris nisi sapien, porttitor in condimentum nec, venenatis eu urna. Pellentesque feugiat diam est, at rhoncus orci porttitor non.\n",
      "\n"
     ]
    }
   ],
   "source": [
    "file_open=open(\"C:/Users/Abhishek Mishra/Desktop/Dataset/Sample.txt\",'r')\n",
    "file_data=file_open.readlines()\n",
    "for i in (0,5,1):\n",
    "     print(file_data[i])"
   ]
  },
  {
   "cell_type": "markdown",
   "metadata": {},
   "source": [
    "# First 3 lines"
   ]
  },
  {
   "cell_type": "code",
   "execution_count": 21,
   "metadata": {},
   "outputs": [
    {
     "name": "stdout",
     "output_type": "stream",
     "text": [
      "2017 1 2 Afghanistan South Asia Takhta Pul 31.320556 65.961111 Hostage Taking (Kidnapping) 0.0 0.0 Construction Workers Taliban Business Firearms 0.0 \n",
      "2017 1 3 Sudan Sub-Saharan Africa Fantaga 12.921007000000001 24.318324 Armed Assault 2.0 0.0 Civilians: Haroun Yousif, Hamid Ibrahim Unknown Private Citizens & Property Firearms 2.0 \n",
      "2017 1 1 Democratic Republic of the Congo Sub-Saharan Africa Saboko 1.452372 29.875162 Armed Assault 7.0 0.0 Village Allied Democratic Forces (ADF) Private Citizens & Property Melee 7.0 \n"
     ]
    }
   ],
   "source": [
    "import csv\n",
    "with open(\"C:/Users/Abhishek Mishra/Desktop/Dataset/year2017.csv\",'r') as file_obj:\n",
    "    file_data=csv.reader(file_obj)\n",
    "    file_list=list(file_data)\n",
    "    for i in range(1, 4) :\n",
    "        for j in file_list[i] :\n",
    "            print(j, end = \" \") \n",
    "        print()"
   ]
  },
  {
   "cell_type": "markdown",
   "metadata": {},
   "source": [
    "# Print all column names"
   ]
  },
  {
   "cell_type": "code",
   "execution_count": 23,
   "metadata": {},
   "outputs": [
    {
     "name": "stdout",
     "output_type": "stream",
     "text": [
      "Year\n",
      "Month\n",
      "Day\n",
      "Country\n",
      "Region\n",
      "city\n",
      "latitude\n",
      "longitude\n",
      "AttackType\n",
      "Killed\n",
      "Wounded\n",
      "Target\n",
      "Group\n",
      "Target_type\n",
      "Weapon_type\n",
      "casualities\n"
     ]
    }
   ],
   "source": [
    "import csv\n",
    "with open(\"C:/Users/Abhishek Mishra/Desktop/Dataset/year2017.csv\",'r') as file_obj:\n",
    "    file_data=csv.reader(file_obj)\n",
    "    file_list=list(file_data)\n",
    "    for i in range (0,1,1):\n",
    "        for j in file_list[i]:\n",
    "            print(j)"
   ]
  },
  {
   "cell_type": "markdown",
   "metadata": {},
   "source": [
    "# Country Names"
   ]
  },
  {
   "cell_type": "code",
   "execution_count": 25,
   "metadata": {},
   "outputs": [
    {
     "name": "stdout",
     "output_type": "stream",
     "text": [
      "Afghanistan\n",
      "Sudan\n",
      "Democratic Republic of the Congo\n",
      "Democratic Republic of the Congo\n",
      "Turkey\n",
      "Syria\n",
      "Pakistan\n",
      "Italy\n",
      "Turkey\n",
      "Turkey\n"
     ]
    }
   ],
   "source": [
    "import csv\n",
    "with open(\"C:/Users/Abhishek Mishra/Desktop/Dataset/year2017.csv\",'r') as file_obj:\n",
    "    file_data=csv.reader(file_obj)\n",
    "    file_list=list(file_data)\n",
    "    n=len(file_list)\n",
    "    for i in range (1,11,1):\n",
    "        print(file_list[i][3])"
   ]
  },
  {
   "cell_type": "markdown",
   "metadata": {},
   "source": [
    "# Total Wounded People"
   ]
  },
  {
   "cell_type": "markdown",
   "metadata": {},
   "source": [
    "Problem Statement :\n",
    "Find and print the total number of wounded people.\n",
    "Print the count as integer value.\n",
    "Note : There can be missing values in \"Wounded\" column. You should try to print the values of \"Wounded\" column and observe.\n",
    "Output Format :"
   ]
  },
  {
   "cell_type": "code",
   "execution_count": 27,
   "metadata": {},
   "outputs": [
    {
     "name": "stdout",
     "output_type": "stream",
     "text": [
      "24927\n"
     ]
    }
   ],
   "source": [
    "import csv\n",
    "with open(\"C:/Users/Abhishek Mishra/Desktop/Dataset/year2017.csv\",'r') as file_obj:\n",
    "    file_data=csv.reader(file_obj)\n",
    "    file_list=list(file_data)\n",
    "    wound=[]\n",
    "    for i in file_list[1:]:\n",
    "        #print(i[10])\n",
    "        if i[10] != '':\n",
    "            wound.append(float(i[10]))\n",
    "sum=0\n",
    "for i in wound:\n",
    "    sum=sum+i\n",
    "print(int(sum))"
   ]
  },
  {
   "cell_type": "markdown",
   "metadata": {},
   "source": [
    "# Total Wounded from India"
   ]
  },
  {
   "cell_type": "markdown",
   "metadata": {},
   "source": [
    "Problem Statement :\n",
    "Find and print the total number of wounded people who are from country \"India\".\n",
    "Print the count as integer value.\n",
    "Note : There can be missing values in \"Wounded\" column. You should try to print the values of \"Wounded\" column and observe.\n",
    "Output Format :"
   ]
  },
  {
   "cell_type": "code",
   "execution_count": 29,
   "metadata": {},
   "outputs": [
    {
     "name": "stdout",
     "output_type": "stream",
     "text": [
      "702\n"
     ]
    }
   ],
   "source": [
    "import csv\n",
    "with open(\"C:/Users/Abhishek Mishra/Desktop/Dataset/year2017.csv\",'r') as file_obj:\n",
    "    file_data=csv.reader(file_obj,skipinitialspace=True)\n",
    "    file_list=list(file_data)\n",
    "    wound=[]\n",
    "    sum=0\n",
    "    for i in file_list[1:]:\n",
    "        if (i[3]=='India'):\n",
    "            if i[10] != '':\n",
    "                #print(float(i[10]))\n",
    "                sum=sum+float(i[10])\n",
    "print(int(sum))"
   ]
  },
  {
   "cell_type": "markdown",
   "metadata": {},
   "source": [
    "# Casualties from Explosives"
   ]
  },
  {
   "cell_type": "markdown",
   "metadata": {},
   "source": [
    "Problem Statement :\n",
    "Find and print total number of casualties with “Explosives” Weapon_type.\n",
    "Print the count as integer value.\n",
    "Note : There can be missing values in \"casualties\" column and there are some initial spaces present in every value. You should try to print the values and observe."
   ]
  },
  {
   "cell_type": "code",
   "execution_count": 31,
   "metadata": {},
   "outputs": [
    {
     "name": "stdout",
     "output_type": "stream",
     "text": [
      "29280\n"
     ]
    }
   ],
   "source": [
    "import csv\n",
    "with open(\"C:/Users/Abhishek Mishra/Desktop/Dataset/year2017.csv\",'r') as file_obj:\n",
    "    file_data=csv.DictReader(file_obj,skipinitialspace=True)\n",
    "    count=0\n",
    "    for row in file_data:\n",
    "        if(row['Weapon_type']=='Explosives'):\n",
    "            if( int(row['casualities']!='')):\n",
    "                count=count+float(row['casualities'])\n",
    "print(int(count)) "
   ]
  },
  {
   "cell_type": "markdown",
   "metadata": {},
   "source": [
    "# Month vs Killed"
   ]
  },
  {
   "cell_type": "markdown",
   "metadata": {},
   "source": [
    "Problem Statement :\n",
    "Find the total number people killed in each month.\n",
    "Print the month and count of killed people as integer value."
   ]
  },
  {
   "cell_type": "code",
   "execution_count": 32,
   "metadata": {},
   "outputs": [
    {
     "name": "stdout",
     "output_type": "stream",
     "text": [
      "1 2275\n",
      "2 2027\n",
      "3 2463\n",
      "4 2142\n",
      "5 2936\n",
      "6 2506\n",
      "7 2228\n",
      "8 2145\n",
      "9 1764\n",
      "10 2580\n",
      "11 2014\n",
      "12 1365\n"
     ]
    }
   ],
   "source": [
    "import csv\n",
    "with open(\"C:/Users/Abhishek Mishra/Desktop/Dataset/year2017.csv\",'r') as file_obj:\n",
    "    file_data=csv.DictReader(file_obj,skipinitialspace=True)\n",
    "    dict={}\n",
    "    for row in file_data:\n",
    "        key=row[\"Month\"]\n",
    "        value=row['Killed']\n",
    "        if (value!=''):\n",
    "            value=int(float(value))\n",
    "        else:\n",
    "            value=0\n",
    "        if key in dict:\n",
    "            dict[key]+=value\n",
    "        else:\n",
    "            dict[key]=value\n",
    "for i in dict:\n",
    "    print(i,dict[i])"
   ]
  },
  {
   "cell_type": "markdown",
   "metadata": {},
   "source": [
    "# Country vs Casualties"
   ]
  },
  {
   "cell_type": "markdown",
   "metadata": {},
   "source": [
    "Problem Statement :\n",
    "Find total number of casualties in each country.\n",
    "Print number of casualties as integer value.\n",
    "Note : For any missing value of casualty column, take 0 as value"
   ]
  },
  {
   "cell_type": "code",
   "execution_count": 34,
   "metadata": {},
   "outputs": [
    {
     "name": "stdout",
     "output_type": "stream",
     "text": [
      "Afghanistan   11698\n",
      "Sudan   255\n",
      "Democratic Republic of the Congo   636\n",
      "Turkey   548\n",
      "Syria   2731\n",
      "Pakistan   3153\n",
      "Italy   8\n",
      "Somalia   3038\n",
      "Yemen   1446\n",
      "Bahrain   32\n",
      "Myanmar   85\n",
      "Burundi   147\n",
      "Iraq   10999\n",
      "Egypt   1499\n",
      "Burkina Faso   98\n",
      "India   1157\n",
      "Algeria   31\n",
      "United States   1027\n",
      "Philippines   1148\n",
      "Greece   7\n",
      "Mali   657\n",
      "Libya   316\n",
      "Central African Republic   569\n",
      "Nigeria   2300\n",
      "Lebanon   66\n",
      "Mexico   29\n",
      "Cameroon   448\n",
      "Ethiopia   80\n",
      "Kyrgyzstan   0\n",
      "Serbia   1\n",
      "Sweden   37\n",
      "Thailand   342\n",
      "Iran   106\n",
      "France   35\n",
      "United Kingdom   343\n",
      "West Bank and Gaza Strip   125\n",
      "Ukraine   104\n",
      "Paraguay   5\n",
      "Colombia   188\n",
      "Malaysia   6\n",
      "Russia   175\n",
      "Kosovo   4\n",
      "South Africa   28\n",
      "Chile   2\n",
      "Kenya   204\n",
      "Israel   18\n",
      "Saudi Arabia   100\n",
      "China   92\n",
      "Nepal   97\n",
      "Ecuador   0\n",
      "Niger   210\n",
      "Venezuela   37\n",
      "South Sudan   836\n",
      "Canada   31\n",
      "Bangladesh   97\n",
      "Tajikistan   1\n",
      "Angola   416\n",
      "Ireland   0\n",
      "Peru   12\n",
      "Dominican Republic   3\n",
      "Poland   0\n",
      "Jordan   5\n",
      "Azerbaijan   7\n",
      "Mozambique   33\n",
      "Indonesia   47\n",
      "Germany   11\n",
      "Brazil   0\n",
      "Macedonia   0\n",
      "Tunisia   10\n",
      "Uganda   9\n",
      "Chad   2\n",
      "Finland   12\n",
      "Australia   25\n",
      "Norway   0\n",
      "Vietnam   0\n",
      "Tanzania   10\n",
      "Sierra Leone   0\n",
      "Sri Lanka   4\n",
      "Maldives   1\n",
      "Belgium   4\n",
      "Rwanda   10\n",
      "Honduras   2\n",
      "Czech Republic   0\n",
      "Malta   1\n",
      "Gabon   2\n",
      "Laos   1\n",
      "Djibouti   0\n",
      "Austria   2\n",
      "Zambia   0\n",
      "Argentina   0\n",
      "Papua New Guinea   3\n",
      "Zimbabwe   1\n",
      "Ivory Coast   5\n",
      "Spain   132\n",
      "Taiwan   1\n",
      "Jamaica   0\n",
      "Albania   0\n",
      "Liberia   0\n",
      "Georgia   5\n",
      "Malawi   0\n",
      "Netherlands   0\n",
      "Latvia   0\n"
     ]
    }
   ],
   "source": [
    "import csv\n",
    "with open(\"C:/Users/Abhishek Mishra/Desktop/Dataset/year2017.csv\",'r') as file_obj:\n",
    "    file_data=csv.DictReader(file_obj,skipinitialspace=True)\n",
    "    dict={}\n",
    "    for row in file_data:\n",
    "        key=row['Country']\n",
    "        value=row['casualities']\n",
    "        if value != '':\n",
    "            value=int(float(value))\n",
    "        else:\n",
    "            value=0\n",
    "        if key in dict:\n",
    "            dict[key]+=value\n",
    "        else:\n",
    "            dict[key]=value\n",
    "for i in dict:\n",
    "    print(i,' ',dict[i])"
   ]
  },
  {
   "cell_type": "markdown",
   "metadata": {},
   "source": [
    "# Job Language"
   ]
  },
  {
   "cell_type": "markdown",
   "metadata": {},
   "source": [
    "Problem Statement :\n",
    "Among Java, C++ and Python, which of the language has more job openings in India for Bachelor Degree Holder?\n",
    "Print the Language(i.e Java,C++,Python) and number of job opening as integer value.\n",
    "Note : Here we will use the BASIC QUALIFICATIONS feature to find out whether bachelor degree for Job is required or not. Keywords that can be used are 'Bachelor', 'BS' and 'BA' and we will use the BASIC QUALIFICATIONS feature to find out whether Language is required for the job or not.Keywords that is used for language searching are 'Java','C++' or 'Python'.(There case should not be changed)."
   ]
  },
  {
   "cell_type": "code",
   "execution_count": 15,
   "metadata": {},
   "outputs": [
    {
     "name": "stdout",
     "output_type": "stream",
     "text": [
      "Java   103\n"
     ]
    }
   ],
   "source": [
    "import csv\n",
    "with open('C:/Users/Abhishek Mishra/Desktop/Dataset/amazon_jobs_dataset.csv','r',encoding='utf-8') as file_obj:\n",
    "    file_data=csv.DictReader(file_obj,skipinitialspace=True)\n",
    "    dict = {}\n",
    "    for row in file_data:\n",
    "        #print(row['location'])\n",
    "        loc=row['location'].split(',')\n",
    "        if ('Bachelor' in row['BASIC QUALIFICATIONS'] or 'BA' in row['BASIC QUALIFICATIONS'] or 'BS' in row['BASIC QUALIFICATIONS']) and ('IN' in loc):\n",
    "            if 'Java' in row['BASIC QUALIFICATIONS']:\n",
    "                dict['Java']=dict.get('Java',0)+1\n",
    "            if 'C++' in row['BASIC QUALIFICATIONS']:\n",
    "                dict['C++']=dict.get('C++',0)+1\n",
    "            if 'Python' in row['BASIC QUALIFICATIONS']:\n",
    "                dict['Python']=dict.get('Python',0)+1\n",
    "max=0\n",
    "for i in dict:\n",
    "    if(dict[i]>max):\n",
    "        max=dict[i]\n",
    "        val=i\n",
    "print(val,' ',max)\n"
   ]
  },
  {
   "cell_type": "code",
   "execution_count": null,
   "metadata": {},
   "outputs": [],
   "source": []
  },
  {
   "cell_type": "code",
   "execution_count": null,
   "metadata": {},
   "outputs": [],
   "source": []
  }
 ],
 "metadata": {
  "kernelspec": {
   "display_name": "Python 3",
   "language": "python",
   "name": "python3"
  },
  "language_info": {
   "codemirror_mode": {
    "name": "ipython",
    "version": 3
   },
   "file_extension": ".py",
   "mimetype": "text/x-python",
   "name": "python",
   "nbconvert_exporter": "python",
   "pygments_lexer": "ipython3",
   "version": "3.7.3"
  }
 },
 "nbformat": 4,
 "nbformat_minor": 2
}
