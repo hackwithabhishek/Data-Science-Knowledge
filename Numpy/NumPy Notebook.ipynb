{
 "cells": [
  {
   "cell_type": "markdown",
   "metadata": {},
   "source": [
    "## NumPy 2D array"
   ]
  },
  {
   "cell_type": "markdown",
   "metadata": {},
   "source": [
    "Given a 2D list, create a numpy 2D array using it.\n",
    "Note: Given 2D list is [[1, 2, 3], [4, 5, 6], [7, 8, 9]]\n",
    "Print the Numpy array."
   ]
  },
  {
   "cell_type": "code",
   "execution_count": 4,
   "metadata": {},
   "outputs": [
    {
     "name": "stdout",
     "output_type": "stream",
     "text": [
      "[[1 2 3]\n",
      " [4 5 6]\n",
      " [7 8 9]]\n"
     ]
    }
   ],
   "source": [
    "import numpy as np\n",
    "a=[[1, 2, 3], [4, 5, 6], [7, 8, 9]]\n",
    "b=np.array(a)\n",
    "print(b)"
   ]
  },
  {
   "cell_type": "markdown",
   "metadata": {},
   "source": [
    "## NumPy 0s and 1s"
   ]
  },
  {
   "cell_type": "markdown",
   "metadata": {},
   "source": [
    "Create an integer array of size 10, where all the values should be 0 but the fifth value should be 1"
   ]
  },
  {
   "cell_type": "code",
   "execution_count": 5,
   "metadata": {},
   "outputs": [
    {
     "name": "stdout",
     "output_type": "stream",
     "text": [
      "0 0 0 0 1 0 0 0 0 0 "
     ]
    }
   ],
   "source": [
    "import numpy as np\n",
    "a=np.zeros(10,dtype=int)\n",
    "a[4]=1\n",
    "for i in a:\n",
    "    print(i,end=' ')"
   ]
  },
  {
   "cell_type": "markdown",
   "metadata": {},
   "source": [
    "## NumPy Inclusive"
   ]
  },
  {
   "cell_type": "markdown",
   "metadata": {},
   "source": [
    "Create an array with values ranging consecutively from 9 to 49 (both inclusive).\n",
    "Print the Numpy array."
   ]
  },
  {
   "cell_type": "code",
   "execution_count": 6,
   "metadata": {},
   "outputs": [
    {
     "name": "stdout",
     "output_type": "stream",
     "text": [
      "9 10 11 12 13 14 15 16 17 18 19 20 21 22 23 24 25 26 27 28 29 30 31 32 33 34 35 36 37 38 39 40 41 42 43 44 45 46 47 48 49 "
     ]
    }
   ],
   "source": [
    "import numpy as np\n",
    "a=np.arange(9,50,dtype=int)\n",
    "for i in a:\n",
    "    print(i,end=' ')"
   ]
  },
  {
   "cell_type": "markdown",
   "metadata": {},
   "source": [
    "## Identity Matrix"
   ]
  },
  {
   "cell_type": "markdown",
   "metadata": {},
   "source": [
    "Create an integer identity matrix of size (5, 6).\n",
    "Print the Numpy array."
   ]
  },
  {
   "cell_type": "code",
   "execution_count": 7,
   "metadata": {},
   "outputs": [
    {
     "name": "stdout",
     "output_type": "stream",
     "text": [
      "[[1 0 0 0 0 0]\n",
      " [0 1 0 0 0 0]\n",
      " [0 0 1 0 0 0]\n",
      " [0 0 0 1 0 0]\n",
      " [0 0 0 0 1 0]]\n"
     ]
    }
   ],
   "source": [
    "import numpy as np\n",
    "a=np.eye(5,6,dtype=int)\n",
    "print(a)"
   ]
  },
  {
   "cell_type": "markdown",
   "metadata": {},
   "source": [
    "## Cut the Rope"
   ]
  },
  {
   "cell_type": "markdown",
   "metadata": {},
   "source": [
    "You are given a rope of length 5m. Cut the rope into 9 parts such that each part is of equal length.\n",
    "\n",
    "Note:Array elements are the points where cut is to be made and round upto 2 decimal place.\n",
    "\n",
    "Print the array element."
   ]
  },
  {
   "cell_type": "code",
   "execution_count": 8,
   "metadata": {},
   "outputs": [
    {
     "name": "stdout",
     "output_type": "stream",
     "text": [
      "0.56\n",
      "1.11\n",
      "1.67\n",
      "2.22\n",
      "2.78\n",
      "3.33\n",
      "3.89\n",
      "4.44\n"
     ]
    }
   ],
   "source": [
    "import numpy as np\n",
    "a=np.linspace(0.56,4.44,8)\n",
    "for i in a:\n",
    "    print(f'{i:.2f}')"
   ]
  },
  {
   "cell_type": "markdown",
   "metadata": {},
   "source": [
    "## Print Elements\n",
    "Given a 2D integer array size (4, 5) with name input_?\n",
    "\n",
    "Print elements of highlighted matrix"
   ]
  },
  {
   "cell_type": "code",
   "execution_count": 11,
   "metadata": {},
   "outputs": [
    {
     "name": "stdout",
     "output_type": "stream",
     "text": [
      "11 12 13 \n",
      "9 14 19 \n",
      "11 12 13 14 15 16 17 18 19 20 \n",
      "7 8 12 13 "
     ]
    }
   ],
   "source": [
    "import numpy as np\n",
    "input_=np.arange(1,21,1)\n",
    "input_=input_.reshape(4,5)\n",
    "a=input_[2,0:3]\n",
    "for i in a:\n",
    "    print(i,end=' ')\n",
    "print('')\n",
    "a=input_[1:4,3]\n",
    "for i in a:\n",
    "    print(i,end=' ')\n",
    "print('')\n",
    "a=input_[2:4,0:6]\n",
    "for i in a:\n",
    "    for j in i:\n",
    "        print(j,end=' ')\n",
    "print('')\n",
    "a=input_[1:3,1:3]\n",
    "for i in a:\n",
    "    for j in i:\n",
    "        print(j,end=' ')"
   ]
  },
  {
   "cell_type": "markdown",
   "metadata": {},
   "source": [
    "## Non-Zero elements\n",
    "\n",
    "#### Problem Statemnt:\n",
    "Find indices of non-zero elements from the array [1,2,0,0,4,0] ?\n",
    "\n",
    "Print the index of non-zero elements."
   ]
  },
  {
   "cell_type": "code",
   "execution_count": 12,
   "metadata": {},
   "outputs": [
    {
     "name": "stdout",
     "output_type": "stream",
     "text": [
      "014"
     ]
    }
   ],
   "source": [
    "import numpy as np\n",
    "ae=[1,2,0,0,4,0]\n",
    "a=np.array(ae)\n",
    "b=np.where(a>0)\n",
    "for i in b:\n",
    "    for j in i:\n",
    "        print(j,end='')"
   ]
  },
  {
   "cell_type": "markdown",
   "metadata": {},
   "source": [
    "## Multiples of 3\n",
    "\n",
    "#### Problem Statement:\n",
    "Given an integer array of size 10. Print the index of elements which are multiple of 3.\n",
    "\n",
    "Note: Generate the following array\n",
    "\n",
    "array([ 1,  3,  5,  7,  9, 11, 13, 15, 17, 19])\n",
    "\n",
    "Print the index of elements."
   ]
  },
  {
   "cell_type": "code",
   "execution_count": 13,
   "metadata": {},
   "outputs": [
    {
     "name": "stdout",
     "output_type": "stream",
     "text": [
      "1\n",
      "4\n",
      "7\n"
     ]
    }
   ],
   "source": [
    "import numpy as np\n",
    "a=np.array([ 1,  3,  5,  7,  9, 11, 13, 15, 17, 19])\n",
    "b=np.where(a%3==0)\n",
    "for i in b:\n",
    "    for j in i:\n",
    "        print(j,)"
   ]
  },
  {
   "cell_type": "markdown",
   "metadata": {},
   "source": [
    "## Odd elements\n",
    "\n",
    "#### Problem Statemnt:\n",
    "Given an integer array of size 10. Replace the odd number in numpy array with -1 ?\n",
    "\n",
    "Note: Generate the following array\n",
    "\n",
    "array([1, 2, 3, 4, 5, 6, 7, 8, 9, 10])\n",
    "\n",
    "Print the Numpy array."
   ]
  },
  {
   "cell_type": "code",
   "execution_count": 14,
   "metadata": {},
   "outputs": [
    {
     "name": "stdout",
     "output_type": "stream",
     "text": [
      "-1 2 -1 4 -1 6 -1 8 -1 10 "
     ]
    }
   ],
   "source": [
    "import numpy as np\n",
    "a=np.array([1, 2, 3, 4, 5, 6, 7, 8, 9, 10])\n",
    "a[np.where(a%2!=0)]=-1\n",
    "for i in a:\n",
    "    print(i,end=' ')"
   ]
  },
  {
   "cell_type": "markdown",
   "metadata": {},
   "source": [
    "## Replace Max\n",
    "\n",
    "#### Problem Statemnt:\n",
    "Given an integer array of size 9 and replace the first occurrence of maximum value by 0?\n",
    "\n",
    "Note: Generate the following array\n",
    "\n",
    "array([11, 2, 13, 4, 15, 6, 27, 8, 19])\n",
    "\n",
    "Print the Numpy array."
   ]
  },
  {
   "cell_type": "code",
   "execution_count": 15,
   "metadata": {},
   "outputs": [
    {
     "name": "stdout",
     "output_type": "stream",
     "text": [
      "11\n",
      "2\n",
      "13\n",
      "4\n",
      "15\n",
      "6\n",
      "0\n",
      "8\n",
      "19\n"
     ]
    }
   ],
   "source": [
    "import numpy as np\n",
    "a=np.array([11, 2, 13, 4, 15, 6, 27, 8, 19])\n",
    "a[a.argmax()]=0\n",
    "for i in a:\n",
    "    print(i)"
   ]
  },
  {
   "cell_type": "markdown",
   "metadata": {},
   "source": [
    "## Negate Elements\n",
    "\n",
    "#### Problem Statemnt:\n",
    "Given a 1D array, negate all elements which are between 3 and 8 (both inclusive)?\n",
    "\n",
    "Note: Generate the following array\n",
    "\n",
    "array([1, 2, 3, 4, 5, 6, 7, 8, 9, 10])\n",
    "\n",
    "Print the Numpy array."
   ]
  },
  {
   "cell_type": "code",
   "execution_count": 16,
   "metadata": {},
   "outputs": [
    {
     "name": "stdout",
     "output_type": "stream",
     "text": [
      "1\n",
      "2\n",
      "-3\n",
      "-4\n",
      "-5\n",
      "-6\n",
      "-7\n",
      "-8\n",
      "9\n",
      "10\n"
     ]
    }
   ],
   "source": [
    "import numpy as np\n",
    "a=np.array([1, 2, 3, 4, 5, 6, 7, 8, 9, 10])\n",
    "a[2:8]=a[2:8]*-1\n",
    "for i in a:\n",
    "    print(i)"
   ]
  },
  {
   "cell_type": "markdown",
   "metadata": {},
   "source": [
    "## Height\n",
    "\n",
    "#### Problem Statemnt:\n",
    "Given age and height of 20 students in two different numpy arrays with name age and height (in cms). \n",
    "\n",
    "Print the age of those students whose height is above 155 cm.\n",
    "\n",
    "Print the Numpy array."
   ]
  },
  {
   "cell_type": "code",
   "execution_count": 17,
   "metadata": {},
   "outputs": [
    {
     "name": "stdout",
     "output_type": "stream",
     "text": [
      "15   156\n",
      "19   180\n",
      "20   162\n",
      "21   157\n",
      "22   158\n",
      "23   179\n",
      "16   182\n",
      "18   183\n",
      "20   159\n",
      "15   160\n",
      "17   172\n"
     ]
    }
   ],
   "source": [
    "import numpy as np\n",
    "age=np.array([15,17,19,20,14,21,16,19,13,20,22,23,21,16,18,19,20,15,17,18])\n",
    "height=np.array([156,144,180,162,152,157,154,155,151,150,158,179,126,182,183,154,159,160,172,149])\n",
    "b=height>155\n",
    "c={}\n",
    "c=age[b]\n",
    "d=height[b]\n",
    "n=len(c)\n",
    "for i in range(0,n,1):\n",
    "    print(c[i],\" \",d[i])"
   ]
  },
  {
   "cell_type": "markdown",
   "metadata": {},
   "source": [
    "## Sort by column\n",
    "\n",
    "Problem Statemnt:\n",
    "Sort a given 2D array of shape (4, 5) by 2nd column (i.e. column at index 1) in ascending order.\n",
    "That means, we should re-arrange complete row based on 2nd columns' values.\n",
    "Given 2D array is:\n",
    " [[21 20 19 18 17]\n",
    "  [16 15 14 13 12]\n",
    "  [11 10  9  8  7]\n",
    "  [ 6  5  4  3  2]]\n",
    "Print the 2D array in sorted order.\n",
    "Note you have to generate the 2D Array.Here 2nd column means column present at index 1."
   ]
  }
 ],
 "metadata": {
  "kernelspec": {
   "display_name": "Python 3",
   "language": "python",
   "name": "python3"
  },
  "language_info": {
   "codemirror_mode": {
    "name": "ipython",
    "version": 3
   },
   "file_extension": ".py",
   "mimetype": "text/x-python",
   "name": "python",
   "nbconvert_exporter": "python",
   "pygments_lexer": "ipython3",
   "version": "3.7.3"
  }
 },
 "nbformat": 4,
 "nbformat_minor": 2
}
