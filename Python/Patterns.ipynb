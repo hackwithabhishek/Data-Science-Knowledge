{
 "cells": [
  {
   "cell_type": "markdown",
   "metadata": {},
   "source": [
    "# Square Pattern"
   ]
  },
  {
   "cell_type": "code",
   "execution_count": 1,
   "metadata": {},
   "outputs": [
    {
     "name": "stdout",
     "output_type": "stream",
     "text": [
      "7\n",
      "7777777\n",
      "7777777\n",
      "7777777\n",
      "7777777\n",
      "7777777\n",
      "7777777\n",
      "7777777\n"
     ]
    }
   ],
   "source": [
    "n=int(input())\n",
    "i=0\n",
    "\n",
    "while (i<n):\n",
    "    j=0\n",
    "    while(j<n):\n",
    "        print(n,end='')\n",
    "        j=j+1\n",
    "    print(\"\")\n",
    "    i=i+1;"
   ]
  },
  {
   "cell_type": "markdown",
   "metadata": {},
   "source": [
    "# Triangular Star Pattern"
   ]
  },
  {
   "cell_type": "code",
   "execution_count": 2,
   "metadata": {},
   "outputs": [
    {
     "name": "stdout",
     "output_type": "stream",
     "text": [
      "10\n",
      "\n",
      "*\n",
      "**\n",
      "***\n",
      "****\n",
      "*****\n",
      "******\n",
      "*******\n",
      "********\n",
      "*********\n",
      "**********\n"
     ]
    }
   ],
   "source": [
    "n=int(input())\n",
    "i=0\n",
    "while (i<=n):\n",
    "    j=0\n",
    "    while(j<i):\n",
    "        print('*',end='')\n",
    "        j=j+1\n",
    "    print('')\n",
    "    i=i+1"
   ]
  },
  {
   "cell_type": "markdown",
   "metadata": {},
   "source": [
    "# Triangle Number Pattern"
   ]
  },
  {
   "cell_type": "code",
   "execution_count": 4,
   "metadata": {},
   "outputs": [
    {
     "name": "stdout",
     "output_type": "stream",
     "text": [
      "9\n",
      "\n",
      "1\n",
      "22\n",
      "333\n",
      "4444\n",
      "55555\n",
      "666666\n",
      "7777777\n",
      "88888888\n",
      "999999999\n"
     ]
    }
   ],
   "source": [
    "n=int(input())\n",
    "i=0\n",
    "while(i<=n):\n",
    "    j=0\n",
    "    while(j<i):\n",
    "        print(i,end='')\n",
    "        j=j+1\n",
    "    print('')\n",
    "    i=i+1"
   ]
  },
  {
   "cell_type": "markdown",
   "metadata": {},
   "source": [
    "# Reverse Number Pattern"
   ]
  },
  {
   "cell_type": "code",
   "execution_count": 5,
   "metadata": {},
   "outputs": [
    {
     "name": "stdout",
     "output_type": "stream",
     "text": [
      "9\n",
      "1\n",
      "21\n",
      "321\n",
      "4321\n",
      "54321\n",
      "654321\n",
      "7654321\n",
      "87654321\n",
      "987654321\n"
     ]
    }
   ],
   "source": [
    "n=int(input())\n",
    "i=1\n",
    "while(i<=n):\n",
    "    j=0\n",
    "    while(j<i):\n",
    "        print(i-j,end='')\n",
    "        j=j+1\n",
    "    print('')\n",
    "    i=i+1"
   ]
  },
  {
   "cell_type": "markdown",
   "metadata": {},
   "source": [
    "# Alpha Pattern"
   ]
  },
  {
   "cell_type": "code",
   "execution_count": 6,
   "metadata": {},
   "outputs": [
    {
     "name": "stdout",
     "output_type": "stream",
     "text": [
      "9\n",
      "A\n",
      "BB\n",
      "CCC\n",
      "DDDD\n",
      "EEEEE\n",
      "FFFFFF\n",
      "GGGGGGG\n",
      "HHHHHHHH\n",
      "IIIIIIIII\n"
     ]
    }
   ],
   "source": [
    "n=int(input())\n",
    "i=1\n",
    "while(i<=n):\n",
    "    j=0\n",
    "    while(j<i):\n",
    "        charv=chr(ord('A')+i-1)\n",
    "        print(charv,end='')\n",
    "        j=j+1\n",
    "    print('')\n",
    "    i=i+1\n"
   ]
  },
  {
   "cell_type": "markdown",
   "metadata": {},
   "source": [
    "# Character Pattern"
   ]
  },
  {
   "cell_type": "code",
   "execution_count": 7,
   "metadata": {},
   "outputs": [
    {
     "name": "stdout",
     "output_type": "stream",
     "text": [
      "9\n",
      "A\n",
      "BC\n",
      "CDE\n",
      "DEFG\n",
      "EFGHI\n",
      "FGHIJK\n",
      "GHIJKLM\n",
      "HIJKLMNO\n",
      "IJKLMNOPQ\n"
     ]
    }
   ],
   "source": [
    "n=int(input())\n",
    "i=1\n",
    "while(i<=n):\n",
    "    j=0\n",
    "    while(j<i):\n",
    "        charv=chr(ord('A')+i+j-1)\n",
    "        print(charv,end='')\n",
    "        j=j+1\n",
    "    print('')\n",
    "    i=i+1\n",
    "    "
   ]
  },
  {
   "cell_type": "markdown",
   "metadata": {},
   "source": [
    "# Interesting Alphabets"
   ]
  },
  {
   "cell_type": "code",
   "execution_count": 8,
   "metadata": {},
   "outputs": [
    {
     "name": "stdout",
     "output_type": "stream",
     "text": [
      "9\n",
      "I\n",
      "HI\n",
      "GHI\n",
      "FGHI\n",
      "EFGHI\n",
      "DEFGHI\n",
      "CDEFGHI\n",
      "BCDEFGHI\n",
      "ABCDEFGHI\n"
     ]
    }
   ],
   "source": [
    "n=int(input())\n",
    "i=1\n",
    "while(i<=n):\n",
    "    j=0\n",
    "    while(j<i):\n",
    "        charv=chr(ord('A')+n-i+j)\n",
    "        print(charv,end='')\n",
    "        j=j+1\n",
    "    print('')\n",
    "    i=i+1"
   ]
  },
  {
   "cell_type": "markdown",
   "metadata": {},
   "source": [
    "# Inverted Number Pattern"
   ]
  },
  {
   "cell_type": "code",
   "execution_count": 9,
   "metadata": {},
   "outputs": [
    {
     "name": "stdout",
     "output_type": "stream",
     "text": [
      "9\n",
      "999999999\n",
      "88888888\n",
      "7777777\n",
      "666666\n",
      "55555\n",
      "4444\n",
      "333\n",
      "22\n",
      "1\n"
     ]
    }
   ],
   "source": [
    "n=int(input())\n",
    "i=n\n",
    "while(i>0):\n",
    "    j=0\n",
    "    while(j<i):\n",
    "        print(i,end='')\n",
    "        j=j+1\n",
    "    print('')\n",
    "    i=i-1"
   ]
  },
  {
   "cell_type": "markdown",
   "metadata": {},
   "source": [
    "# Mirror Number Pattern"
   ]
  },
  {
   "cell_type": "code",
   "execution_count": 10,
   "metadata": {},
   "outputs": [
    {
     "name": "stdout",
     "output_type": "stream",
     "text": [
      "9\n",
      "        1\n",
      "       12\n",
      "      123\n",
      "     1234\n",
      "    12345\n",
      "   123456\n",
      "  1234567\n",
      " 12345678\n",
      "123456789\n"
     ]
    }
   ],
   "source": [
    "n=int(input())\n",
    "i=1\n",
    "while(i<=n):\n",
    "    j=n\n",
    "    while(j>0):\n",
    "        if(j>i):\n",
    "            print(' ',end='')\n",
    "            j=j-1\n",
    "            continue\n",
    "        print(i-j+1,end='')  \n",
    "        j=j-1\n",
    "    print('')\n",
    "    i=i+1"
   ]
  },
  {
   "cell_type": "markdown",
   "metadata": {},
   "source": [
    "# Star Pattern"
   ]
  },
  {
   "cell_type": "code",
   "execution_count": 13,
   "metadata": {},
   "outputs": [
    {
     "name": "stdout",
     "output_type": "stream",
     "text": [
      "9\n",
      "        *\n",
      "       ***\n",
      "      *****\n",
      "     *******\n",
      "    *********\n",
      "   ***********\n",
      "  *************\n",
      " ***************\n",
      "*****************\n"
     ]
    }
   ],
   "source": [
    "n=int(input())\n",
    "i=1\n",
    "while(i<=n):\n",
    "    #spaces\n",
    "    spaces=1\n",
    "    while(spaces<=n-i):\n",
    "        print(' ',end='')\n",
    "        spaces=spaces+1\n",
    "    j=0\n",
    "    while(j<i):\n",
    "        print('*',end='')\n",
    "        j=j+1;\n",
    "    j=j-1\n",
    "    while(j>=1):\n",
    "        print('*',end='')\n",
    "        j=j-1\n",
    "    print('')\n",
    "    i=i+1"
   ]
  },
  {
   "cell_type": "markdown",
   "metadata": {},
   "source": [
    "# Triangle of Numbers"
   ]
  },
  {
   "cell_type": "code",
   "execution_count": 15,
   "metadata": {},
   "outputs": [
    {
     "name": "stdout",
     "output_type": "stream",
     "text": [
      "5\n",
      "    1\n",
      "   232\n",
      "  34543\n",
      " 4567654\n",
      "567898765\n"
     ]
    }
   ],
   "source": [
    "n=int(input())\n",
    "i=1\n",
    "while(i<=n):\n",
    "    spaces=1\n",
    "    while(spaces<=n-i):\n",
    "        print(' ',end='')\n",
    "        spaces=spaces+1\n",
    "    p=i\n",
    "    j=0\n",
    "    while(j<i):\n",
    "        print(p,end='')\n",
    "        p=p+1\n",
    "        j=j+1\n",
    "    p=p-1\n",
    "    while(p>i):\n",
    "        print(p-1,end='')\n",
    "        p=p-1\n",
    "    print('');\n",
    "    i=i+1"
   ]
  },
  {
   "cell_type": "markdown",
   "metadata": {},
   "source": [
    "# Diamond of stars"
   ]
  },
  {
   "cell_type": "code",
   "execution_count": 16,
   "metadata": {},
   "outputs": [
    {
     "name": "stdout",
     "output_type": "stream",
     "text": [
      "50\n",
      "                         *\n",
      "                        ***\n",
      "                       *****\n",
      "                      *******\n",
      "                     *********\n",
      "                    ***********\n",
      "                   *************\n",
      "                  ***************\n",
      "                 *****************\n",
      "                *******************\n",
      "               *********************\n",
      "              ***********************\n",
      "             *************************\n",
      "            ***************************\n",
      "           *****************************\n",
      "          *******************************\n",
      "         *********************************\n",
      "        ***********************************\n",
      "       *************************************\n",
      "      ***************************************\n",
      "     *****************************************\n",
      "    *******************************************\n",
      "   *********************************************\n",
      "  ***********************************************\n",
      " *************************************************\n",
      "***************************************************\n",
      " ************************************************\n",
      "  **********************************************\n",
      "   ********************************************\n",
      "    ******************************************\n",
      "     ****************************************\n",
      "      **************************************\n",
      "       ************************************\n",
      "        **********************************\n",
      "         ********************************\n",
      "          ******************************\n",
      "           ****************************\n",
      "            **************************\n",
      "             ************************\n",
      "              **********************\n",
      "               ********************\n",
      "                ******************\n",
      "                 ****************\n",
      "                  **************\n",
      "                   ************\n",
      "                    **********\n",
      "                     ********\n",
      "                      ******\n",
      "                       ****\n",
      "                        **\n",
      "                         \n"
     ]
    }
   ],
   "source": [
    "n=int(input())\n",
    "i=1\n",
    "k=int(n/2+1)\n",
    "while(i<=k):\n",
    "    spaces=1\n",
    "    while(spaces<=k-i):\n",
    "        print(' ',end='')\n",
    "        spaces=spaces+1\n",
    "    j=0\n",
    "    while(j<i):\n",
    "        print('*',end='')\n",
    "        j=j+1\n",
    "    j=j-1\n",
    "    while(j>0):\n",
    "        print('*',end='')\n",
    "        j=j-1\n",
    "    print('')\n",
    "    i=i+1\n",
    "i=1\n",
    "k=int(n-k+1)\n",
    "while(i<=k):\n",
    "    spaces=1\n",
    "    while(spaces<i+1):\n",
    "        print(' ',end='')\n",
    "        spaces=spaces+1\n",
    "    j=i\n",
    "    while(j<n-i):\n",
    "        print('*',end='')\n",
    "        j=j+1\n",
    "    print('')\n",
    "    i=i+1"
   ]
  },
  {
   "cell_type": "code",
   "execution_count": null,
   "metadata": {},
   "outputs": [],
   "source": []
  }
 ],
 "metadata": {
  "kernelspec": {
   "display_name": "Python 3",
   "language": "python",
   "name": "python3"
  },
  "language_info": {
   "codemirror_mode": {
    "name": "ipython",
    "version": 3
   },
   "file_extension": ".py",
   "mimetype": "text/x-python",
   "name": "python",
   "nbconvert_exporter": "python",
   "pygments_lexer": "ipython3",
   "version": "3.7.3"
  }
 },
 "nbformat": 4,
 "nbformat_minor": 2
}
