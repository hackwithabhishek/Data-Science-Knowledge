{
 "cells": [
  {
   "cell_type": "markdown",
   "metadata": {},
   "source": [
    "# Terms of AP"
   ]
  },
  {
   "cell_type": "code",
   "execution_count": 1,
   "metadata": {},
   "outputs": [
    {
     "name": "stdout",
     "output_type": "stream",
     "text": [
      "10\n",
      "5 11 14 17 23 26 29 35 38 41 "
     ]
    }
   ],
   "source": [
    "n=int(input())\n",
    "k=0\n",
    "\n",
    "for i in range(1,4001,1):\n",
    "    if(n==0):\n",
    "        break\n",
    "    c=3*i+2\n",
    "    if(c%4!=0):\n",
    "        print(c,end=' ')\n",
    "        k=k+1    \n",
    "    if(k==n):\n",
    "        break"
   ]
  },
  {
   "cell_type": "markdown",
   "metadata": {},
   "source": [
    "# Sum or product"
   ]
  },
  {
   "cell_type": "code",
   "execution_count": 7,
   "metadata": {},
   "outputs": [
    {
     "name": "stdout",
     "output_type": "stream",
     "text": [
      "5\n",
      "1\n",
      "15\n"
     ]
    }
   ],
   "source": [
    "n=int(input())\n",
    "c=int(input())\n",
    "if(c==1):\n",
    "    sum=0\n",
    "    for i in range(1,n+1):\n",
    "        sum=sum+i\n",
    "    print(sum)\n",
    "elif(c==2):\n",
    "    pro=1\n",
    "    for i in range(1,n+1):\n",
    "        pro=pro*i\n",
    "    print(pro)\n",
    "else:\n",
    "    print('-1')"
   ]
  },
  {
   "cell_type": "markdown",
   "metadata": {},
   "source": [
    "# Square root (Integral)"
   ]
  },
  {
   "cell_type": "code",
   "execution_count": 8,
   "metadata": {},
   "outputs": [
    {
     "name": "stdout",
     "output_type": "stream",
     "text": [
      "10\n",
      "3\n"
     ]
    }
   ],
   "source": [
    "n=int(input())\n",
    "for i in range(0,100000001,1):\n",
    "    if(i*i>n):\n",
    "        print(i-1)\n",
    "        break\n",
    "    if(i*i==n):\n",
    "        print(i)\n",
    "        break"
   ]
  },
  {
   "cell_type": "markdown",
   "metadata": {},
   "source": [
    "# Decimal to Binary"
   ]
  },
  {
   "cell_type": "code",
   "execution_count": 9,
   "metadata": {},
   "outputs": [
    {
     "name": "stdout",
     "output_type": "stream",
     "text": [
      "12\n",
      "1100\n"
     ]
    }
   ],
   "source": [
    "def reverse(string): \n",
    "    string = \"\".join(reversed(string)) \n",
    "    return string \n",
    "n=int(input())\n",
    "str=''\n",
    "k=n\n",
    "while(n>=1):\n",
    "    if(n%2==0):\n",
    "        str=str+'0'\n",
    "    else:\n",
    "        str=str+'1'\n",
    "    n=n//2\n",
    "    #print(str)\n",
    "    #print(n)    \n",
    "str=reverse(str)\n",
    "if(k==0):\n",
    "    print('0')\n",
    "print(str)"
   ]
  },
  {
   "cell_type": "markdown",
   "metadata": {},
   "source": [
    "# Binary to decimal"
   ]
  },
  {
   "cell_type": "code",
   "execution_count": 14,
   "metadata": {},
   "outputs": [
    {
     "name": "stdout",
     "output_type": "stream",
     "text": [
      "1100\n",
      "12\n"
     ]
    }
   ],
   "source": [
    "s=int(input())\n",
    "i=-1\n",
    "sum=0\n",
    "while(s>0):\n",
    "    i=i+1\n",
    "    if((s%10)!=0):\n",
    "        sum=sum+pow(2,i)\n",
    "    #print(sum)    \n",
    "    s=s//10\n",
    "    #print(s)\n",
    "print(sum)"
   ]
  },
  {
   "cell_type": "markdown",
   "metadata": {},
   "source": [
    "# Even Fibonacci Numbers"
   ]
  },
  {
   "cell_type": "code",
   "execution_count": 11,
   "metadata": {},
   "outputs": [
    {
     "name": "stdout",
     "output_type": "stream",
     "text": [
      "8\n",
      "10\n"
     ]
    }
   ],
   "source": [
    "n=int(input())\n",
    "a=1\n",
    "b=1\n",
    "sum=0\n",
    "for i in range(0,1000001,1):\n",
    "    c=a+b\n",
    "    a=b\n",
    "    b=c\n",
    "    #print(c,end=' ')\n",
    "    if(c>n):\n",
    "        break\n",
    "    if(c%2==0):\n",
    "        sum=sum+c     \n",
    "print(sum)           "
   ]
  },
  {
   "cell_type": "markdown",
   "metadata": {},
   "source": [
    "# Trailing zeroes in n!"
   ]
  },
  {
   "cell_type": "code",
   "execution_count": 15,
   "metadata": {},
   "outputs": [
    {
     "name": "stdout",
     "output_type": "stream",
     "text": [
      "50\n",
      "12\n"
     ]
    }
   ],
   "source": [
    "n=int(input())\n",
    "sum=0\n",
    "while(n>=1):\n",
    "    n=n//5\n",
    "    sum=sum+n\n",
    "print(sum)    \n",
    "    "
   ]
  },
  {
   "cell_type": "code",
   "execution_count": null,
   "metadata": {},
   "outputs": [],
   "source": []
  }
 ],
 "metadata": {
  "kernelspec": {
   "display_name": "Python 3",
   "language": "python",
   "name": "python3"
  },
  "language_info": {
   "codemirror_mode": {
    "name": "ipython",
    "version": 3
   },
   "file_extension": ".py",
   "mimetype": "text/x-python",
   "name": "python",
   "nbconvert_exporter": "python",
   "pygments_lexer": "ipython3",
   "version": "3.7.3"
  }
 },
 "nbformat": 4,
 "nbformat_minor": 2
}
