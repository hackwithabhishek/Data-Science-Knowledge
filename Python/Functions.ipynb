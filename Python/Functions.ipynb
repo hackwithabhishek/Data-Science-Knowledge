{
 "cells": [
  {
   "cell_type": "markdown",
   "metadata": {},
   "source": [
    "# Fahrenheit To Celsius"
   ]
  },
  {
   "cell_type": "code",
   "execution_count": 1,
   "metadata": {},
   "outputs": [
    {
     "name": "stdout",
     "output_type": "stream",
     "text": [
      "0\n",
      "100\n",
      "204\n",
      "0   -17\n"
     ]
    }
   ],
   "source": [
    "def printTable(start,end,step):\n",
    "    for i in range (start,end+1,step):\n",
    "        f=(int)((i-32)*(5/9))\n",
    "        #f=int(i*(9/5)-14)\n",
    "        print(i,\" \",f)\n",
    "    pass \n",
    "\n",
    "   \n",
    "s = int(input())\n",
    "e = int(input())\n",
    "step = int(input())\n",
    "printTable(s,e,step)"
   ]
  },
  {
   "cell_type": "markdown",
   "metadata": {},
   "source": [
    "# Fibonacci Member"
   ]
  },
  {
   "cell_type": "code",
   "execution_count": 2,
   "metadata": {},
   "outputs": [
    {
     "name": "stdout",
     "output_type": "stream",
     "text": [
      "5\n",
      "true\n"
     ]
    }
   ],
   "source": [
    "def checkMember(n):\n",
    "    if(n==0 or n==1 or n==2):\n",
    "        return 1\n",
    "    a=1\n",
    "    b=1\n",
    "    i=0\n",
    "    while(i<=n):\n",
    "        c=a+b\n",
    "        a=b\n",
    "        b=c\n",
    "        #print(c)\n",
    "        if(c+a==n):\n",
    "            return 1\n",
    "        i=i+c\n",
    "    return 0\n",
    "    pass\n",
    "\n",
    "n=int(input())\n",
    "if(checkMember(n)):\n",
    "    print(\"true\")\n",
    "else:\n",
    "    print(\"false\")"
   ]
  },
  {
   "cell_type": "code",
   "execution_count": null,
   "metadata": {},
   "outputs": [],
   "source": []
  }
 ],
 "metadata": {
  "kernelspec": {
   "display_name": "Python 3",
   "language": "python",
   "name": "python3"
  },
  "language_info": {
   "codemirror_mode": {
    "name": "ipython",
    "version": 3
   },
   "file_extension": ".py",
   "mimetype": "text/x-python",
   "name": "python",
   "nbconvert_exporter": "python",
   "pygments_lexer": "ipython3",
   "version": "3.7.3"
  }
 },
 "nbformat": 4,
 "nbformat_minor": 2
}
