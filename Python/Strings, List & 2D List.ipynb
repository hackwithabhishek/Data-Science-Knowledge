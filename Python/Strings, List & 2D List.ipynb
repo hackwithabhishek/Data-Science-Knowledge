{
 "cells": [
  {
   "cell_type": "markdown",
   "metadata": {},
   "source": [
    "# Check Palindrome"
   ]
  },
  {
   "cell_type": "code",
   "execution_count": 7,
   "metadata": {},
   "outputs": [
    {
     "name": "stdout",
     "output_type": "stream",
     "text": [
      "aaaaabbbbaaaaa\n",
      "true\n"
     ]
    }
   ],
   "source": [
    "str=str(input())\n",
    "str1=str[-1::-1]\n",
    "if(str==str1):\n",
    "    print('true')\n",
    "else:\n",
    "    print('false')"
   ]
  },
  {
   "cell_type": "markdown",
   "metadata": {},
   "source": [
    "# Print all substrings"
   ]
  },
  {
   "cell_type": "code",
   "execution_count": 11,
   "metadata": {},
   "outputs": [
    {
     "name": "stdout",
     "output_type": "stream",
     "text": [
      "xyz\n",
      "x\n",
      "xy\n",
      "xyz\n",
      "y\n",
      "yz\n",
      "z\n"
     ]
    }
   ],
   "source": [
    "str1=(input())\n",
    "n=len(str)\n",
    "c=0\n",
    "for i in str1:\n",
    "    k=''\n",
    "    for j in str1[c:n]:\n",
    "        k=k+j\n",
    "        print(k)\n",
    "    c=c+1 "
   ]
  },
  {
   "cell_type": "markdown",
   "metadata": {},
   "source": [
    "# Swap Alternate"
   ]
  },
  {
   "cell_type": "code",
   "execution_count": 15,
   "metadata": {},
   "outputs": [
    {
     "name": "stdout",
     "output_type": "stream",
     "text": [
      "6\n",
      "6 3 9 12 4 32\n",
      "3 6 12 9 32 4 "
     ]
    }
   ],
   "source": [
    "n=int(input())\n",
    "if(n==0):\n",
    "    print('')\n",
    "else:\n",
    "    l=[int(i) for i in input().split()]\n",
    "    temp=0\n",
    "    for i in range(0,n-1,2):\n",
    "        temp=l[i]\n",
    "        l[i]=l[i+1]\n",
    "        l[i+1]=temp\n",
    "        i=i+2\n",
    "    for i in l:\n",
    "        print(i,end=' ')"
   ]
  },
  {
   "cell_type": "markdown",
   "metadata": {},
   "source": [
    "# Array equilibrium index"
   ]
  },
  {
   "cell_type": "code",
   "execution_count": 16,
   "metadata": {},
   "outputs": [
    {
     "name": "stdout",
     "output_type": "stream",
     "text": [
      "7\n",
      "-7 1 5 2 -4 3 0\n",
      "3\n"
     ]
    }
   ],
   "source": [
    "def equilibriumIndex(arr):\n",
    "    l=[]\n",
    "    r=[]\n",
    "    sum=0\n",
    "    k=0\n",
    "    n=len(l)\n",
    "    for i in arr:\n",
    "        sum=sum+i\n",
    "        l.append(sum-arr[k])\n",
    "        k=k+1\n",
    "    sum=0    \n",
    "    k=n-1\n",
    "    for i in arr[-1::-1]:\n",
    "        sum=sum+i\n",
    "        r.append(sum-arr[k])\n",
    "        k=k-1\n",
    "    h=[]\n",
    "    for i in r[-1::-1]:\n",
    "        h.append(i)\n",
    "    # for i in l:\n",
    "    #     print(i,end=\" \")\n",
    "    # print('') \n",
    "    # for i in h:\n",
    "    #     print(i,end=' ')\n",
    "    for i in range (0,len(h),1):\n",
    "        # print(l[i],end=' ')\n",
    "        # print(h[i])\n",
    "        if(l[i]==h[i]):\n",
    "            return i\n",
    "    return -1\n",
    "\n",
    "# Main\n",
    "n = int(input())\n",
    "arr = [int(i) for i in input().strip().split()]\n",
    "print(equilibriumIndex(arr))"
   ]
  },
  {
   "cell_type": "markdown",
   "metadata": {},
   "source": [
    "# Wave Print"
   ]
  },
  {
   "cell_type": "code",
   "execution_count": 26,
   "metadata": {},
   "outputs": [
    {
     "name": "stdout",
     "output_type": "stream",
     "text": [
      "3 4 1 2 3 4 5 6 7 8 9 10 11 12\n",
      "1 5 9 10 6 2 3 7 11 12 8 4 "
     ]
    }
   ],
   "source": [
    "def wavePrint(arr):\n",
    "    m=len(arr)\n",
    "    if m==0:\n",
    "        return\n",
    "    n=len(arr[0])\n",
    "    k=0\n",
    "    while(n>0):\n",
    "        if(k%2==0):\n",
    "            for j in range(m):\n",
    "                print(arr[j][k],end=' ')\n",
    "        else:\n",
    "            for j in range (m-1,-1,-1):\n",
    "                print(arr[j][k],end=' ')\n",
    "        \n",
    "        n=n-1     \n",
    "        k=k+1\n",
    "    pass\n",
    "\n",
    "#Main\n",
    "l=[int(i) for i in input().strip().split(' ')]\n",
    "m, n=l[0], l[1]\n",
    "arr = [ [ l[(j*n)+i+2] for i in range(n)] for j in range(m)]\n",
    "#print(arr)\n",
    "wavePrint(arr)"
   ]
  },
  {
   "cell_type": "markdown",
   "metadata": {},
   "source": [
    "# Row wise sum"
   ]
  },
  {
   "cell_type": "code",
   "execution_count": 28,
   "metadata": {},
   "outputs": [
    {
     "name": "stdout",
     "output_type": "stream",
     "text": [
      "4 2\n",
      "1 2 3 4 5 6 7 8\n",
      "3 7 11 15\n"
     ]
    }
   ],
   "source": [
    "def rowWiseSum(arr):\n",
    "    m=len(arr)\n",
    "    if(m==0):\n",
    "        l=[]\n",
    "        return l;\n",
    "    n=len(arr[0])\n",
    "    l=[]\n",
    "    for j in range(m):\n",
    "        sum_j=0;\n",
    "        for i in range(n):\n",
    "            sum_j=sum_j+arr[j][i]\n",
    "        l.append(sum_j)    \n",
    "    return l\n",
    "\n",
    "#Main\n",
    "m, n=(int(i) for i in input().strip().split(' '))\n",
    "l=[int(i) for i in input().strip().split(' ')]\n",
    "arr = [ [ l[(j*n)+i] for i in range(n)] for j in range(m)]\n",
    "l=rowWiseSum(arr)\n",
    "print(*l)\n"
   ]
  },
  {
   "cell_type": "markdown",
   "metadata": {},
   "source": [
    "# Remove Consecutive Duplicates"
   ]
  },
  {
   "cell_type": "code",
   "execution_count": 29,
   "metadata": {},
   "outputs": [
    {
     "name": "stdout",
     "output_type": "stream",
     "text": [
      "aabccbaa\n",
      "abcba"
     ]
    }
   ],
   "source": [
    "s=input()\n",
    "n=len(s)\n",
    "l=[]\n",
    "i=0\n",
    "while(n>1):\n",
    "    if(s[i]==s[i+1]):\n",
    "        if(len(l)>0):\n",
    "            v=l.pop()\n",
    "            if(v==s[i]):\n",
    "                l.append(s[i])\n",
    "            else: \n",
    "                l.append(v)\n",
    "                l.append(s[i])\n",
    "        else:\n",
    "            l.append(s[i])\n",
    "        i=i+2\n",
    "        n=n-2\n",
    "    else:\n",
    "        if(len(l)>0):\n",
    "            v=l.pop()\n",
    "            if(v==s[i]):\n",
    "                l.append(s[i])\n",
    "            else:\n",
    "                l.append(v)\n",
    "                l.append(s[i])\n",
    "                \n",
    "        else:\n",
    "            l.append(s[i])\n",
    "        n=n-1\n",
    "        i=i+1\n",
    "if(n==1):\n",
    "    if(s[len(s)-1]!=s[len(s)-2]):\n",
    "        l.append(s[len(s)-1])\n",
    "        \n",
    "for i in range (0,len(l),1):\n",
    "    print(l[i],end='')\n",
    "    "
   ]
  },
  {
   "cell_type": "markdown",
   "metadata": {},
   "source": [
    "# Reverse Each Word"
   ]
  },
  {
   "cell_type": "code",
   "execution_count": 30,
   "metadata": {},
   "outputs": [
    {
     "name": "stdout",
     "output_type": "stream",
     "text": [
      "Give proper names to variables and functions\n",
      "eviG reporp seman ot selbairav dna snoitcnuf "
     ]
    }
   ],
   "source": [
    "l=[ i for i in input().split(' ')]\n",
    "for j in l:\n",
    "    print(\"\".join(reversed(j)),end=' ')"
   ]
  },
  {
   "cell_type": "markdown",
   "metadata": {},
   "source": [
    "# Highest Occurring Character"
   ]
  },
  {
   "cell_type": "code",
   "execution_count": 32,
   "metadata": {},
   "outputs": [
    {
     "name": "stdout",
     "output_type": "stream",
     "text": [
      "abdefgbabfba\n",
      "b\n"
     ]
    }
   ],
   "source": [
    "s=input()\n",
    "l=[]\n",
    "for i in s:\n",
    "    l.append(i)\n",
    "n=len(l)\n",
    "r=[]\n",
    "for i in l:\n",
    "    r.append(ord(i))\n",
    "min=1\n",
    "ans=l[0]\n",
    "for i in r:\n",
    "    k=r.count(i)\n",
    "    if(k>min):\n",
    "        min=k\n",
    "        ans=chr(i)\n",
    "print(ans)"
   ]
  },
  {
   "cell_type": "markdown",
   "metadata": {},
   "source": [
    "# Arrange Numbers in the Array"
   ]
  },
  {
   "cell_type": "code",
   "execution_count": 38,
   "metadata": {},
   "outputs": [
    {
     "name": "stdout",
     "output_type": "stream",
     "text": [
      "9\n",
      "1 3 5 7 9 8 6 4 2 "
     ]
    }
   ],
   "source": [
    "def arrange(arr, n):\n",
    "    l=[]\n",
    "    r=[]\n",
    "    for i in range (0,n+1,1):\n",
    "        if(i%2!=0):\n",
    "            l.append(i)\n",
    "    for i in range (n,0,-1):\n",
    "        if(i%2==0):\n",
    "            l.append(i)\n",
    "    arr=l  \n",
    "    for i in arr:\n",
    "        print(i,end=' ')\n",
    "    return;\n",
    "\n",
    "\n",
    "\n",
    "\n",
    "\n",
    "\n",
    "\n",
    "\n",
    "#main\n",
    "n = int(input().strip())\n",
    "arr = n * [0]\n",
    "\n",
    "arrange(arr, n)"
   ]
  },
  {
   "cell_type": "markdown",
   "metadata": {},
   "source": [
    "# Leaders in array"
   ]
  },
  {
   "cell_type": "code",
   "execution_count": 39,
   "metadata": {},
   "outputs": [
    {
     "name": "stdout",
     "output_type": "stream",
     "text": [
      "6\n",
      "3 12 34 2 0 -1\n",
      "34 2 0 -1 "
     ]
    }
   ],
   "source": [
    "n=int(input())\n",
    "l=[int(i) for i in input().split()]\n",
    "max=l[len(l)-1]\n",
    "r=[max]\n",
    "for i  in  range (len(l)-2,-1,-1):\n",
    "    if(max<=l[i]):\n",
    "        r.append(l[i])\n",
    "        max=l[i]\n",
    "for i in range(len(r)-1,-1,-1):\n",
    "    print(r[i],end=' ')\n",
    "        "
   ]
  },
  {
   "cell_type": "markdown",
   "metadata": {},
   "source": [
    "# Largest Row or Column"
   ]
  },
  {
   "cell_type": "code",
   "execution_count": 45,
   "metadata": {},
   "outputs": [
    {
     "name": "stdout",
     "output_type": "stream",
     "text": [
      "2 2\n",
      "1 1 1 1\n",
      "row 0 2 "
     ]
    }
   ],
   "source": [
    "def largestRowCol(arr):\n",
    "    n=len(arr)\n",
    "    m=len(arr[0])\n",
    "    r=[]\n",
    "    for i in arr:\n",
    "        sum=0\n",
    "        for j in i:\n",
    "            sum=sum+j\n",
    "        r.append(sum);\n",
    "    k=0\n",
    "    l=[]\n",
    "    sum=0\n",
    "    while(k<m):\n",
    "        sum=0\n",
    "        for i in arr:\n",
    "            sum=sum+i[k]\n",
    "        k=k+1\n",
    "        l.append(sum);\n",
    "    # print(n)\n",
    "    # print(m)\n",
    "    # for i in r:\n",
    "    #     print(i)\n",
    "    # for i in l:\n",
    "    #     print(i)\n",
    "    rmax=r[0]\n",
    "    rmaxi=0\n",
    "    for i in range (0,len(r)):\n",
    "        if(rmax<r[i]):\n",
    "            rmax=r[i]\n",
    "            rmaxi=i\n",
    "    lmax=r[0]\n",
    "    lmaxi=0\n",
    "    for i in range (0,len(l)):\n",
    "        if(lmax<l[i]):\n",
    "            lmax=l[i]\n",
    "            lmaxi=i\n",
    "        \n",
    "    if(rmax>=lmax):\n",
    "        print('row',end=' ')\n",
    "        print(rmaxi,end=' ')\n",
    "        print(rmax,end=' ')\n",
    "    else:\n",
    "        print('column',end=' ')\n",
    "        print(lmaxi,end=' ')\n",
    "        print(lmax,end=' ')\n",
    "        \n",
    "        \n",
    "        \n",
    "    pass\n",
    "\n",
    "#Main\n",
    "m, n=(int(i) for i in input().strip().split(' '))\n",
    "l=[int(i) for i in input().strip().split(' ')]\n",
    "arr = [ [ l[(j*n)+i] for i in range(n)] for j in range(m)]\n",
    "l=largestRowCol(arr)\n",
    "#print(arr)\n",
    "#print(*l)\n"
   ]
  },
  {
   "cell_type": "markdown",
   "metadata": {},
   "source": [
    "# Print Spiral"
   ]
  },
  {
   "cell_type": "code",
   "execution_count": 47,
   "metadata": {},
   "outputs": [
    {
     "name": "stdout",
     "output_type": "stream",
     "text": [
      "4 4 1 2 3 4 5 6 7 8 9 1 0 11 12 13 14 15 16\n",
      "1 2 3 4 8 11 15 14 13 12 9 5 6 7 0 1 "
     ]
    }
   ],
   "source": [
    "def spiralPrint(a):\n",
    "    m=len(a)\n",
    "    n=len(a[0])\n",
    "    k=0\n",
    "    l=0\n",
    "    while(k<m and l<n):\n",
    "        for i in range(l,n):\n",
    "            print(a[k][i],end=' ')\n",
    "        k+=1\n",
    "        \n",
    "        for i in range(k,m):\n",
    "            print(a[i][n-1],end=' ')\n",
    "        n-=1\n",
    "        \n",
    "        if(k<m):\n",
    "            for i in range(n-1,(l-1),-1):\n",
    "                print(a[m-1][i],end=' ')\n",
    "            m-=1\n",
    "        if(l<n):\n",
    "            for i in range(m-1,k-1,-1):\n",
    "                print(a[i][l],end=' ')\n",
    "            l+=1\n",
    "            \n",
    "                \n",
    "    pass\n",
    "\n",
    "#Main\n",
    "l=[int(i) for i in input().strip().split(' ')]\n",
    "m, n=l[0], l[1]\n",
    "arr = [ [ l[(j*n)+i+2] for i in range(n)] for j in range(m)]\n",
    "spiralPrint(arr)\n"
   ]
  },
  {
   "cell_type": "code",
   "execution_count": null,
   "metadata": {},
   "outputs": [],
   "source": []
  }
 ],
 "metadata": {
  "kernelspec": {
   "display_name": "Python 3",
   "language": "python",
   "name": "python3"
  },
  "language_info": {
   "codemirror_mode": {
    "name": "ipython",
    "version": 3
   },
   "file_extension": ".py",
   "mimetype": "text/x-python",
   "name": "python",
   "nbconvert_exporter": "python",
   "pygments_lexer": "ipython3",
   "version": "3.7.3"
  }
 },
 "nbformat": 4,
 "nbformat_minor": 2
}
