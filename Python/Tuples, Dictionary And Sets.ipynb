{
 "cells": [
  {
   "cell_type": "markdown",
   "metadata": {},
   "source": [
    "# Highest frequency number"
   ]
  },
  {
   "cell_type": "code",
   "execution_count": 1,
   "metadata": {},
   "outputs": [
    {
     "name": "stdout",
     "output_type": "stream",
     "text": [
      "13\n",
      "1 5 4 7 12 12 12 4 8 7 12 5 4 \n",
      "12\n"
     ]
    }
   ],
   "source": [
    "def maxFreq(l):\n",
    "    d={}\n",
    "    for i in l:\n",
    "        d[i]=d.get(i,0)+1\n",
    "        #print(d)\n",
    "    max=0\n",
    "    # for i in d:\n",
    "    #     print(i)\n",
    "    for i in d:\n",
    "        if(max<d[i]):\n",
    "            max=d[i]\n",
    "            #print(max,\" \",d[i],\" \",i)\n",
    "    for i in l:\n",
    "        if(d[i]==max):\n",
    "            return i\n",
    "\n",
    "# Main\n",
    "n=int(input())\n",
    "l=list(int(i) for i in input().strip().split(' '))\n",
    "print(maxFreq(l))\n"
   ]
  },
  {
   "cell_type": "markdown",
   "metadata": {},
   "source": [
    "# Maximum Distance"
   ]
  },
  {
   "cell_type": "code",
   "execution_count": 2,
   "metadata": {},
   "outputs": [
    {
     "name": "stdout",
     "output_type": "stream",
     "text": [
      "9\n",
      "1 9 1 3 4 5 6 8 9\n",
      "7\n"
     ]
    }
   ],
   "source": [
    "def maxDistance(l):\n",
    "    d={}\n",
    "    for i in l:\n",
    "        d[i]=d.get(i,0)+1\n",
    "    r=[]\n",
    "    # for i in d:\n",
    "    #     print(i,\" \",d[i])\n",
    "    for i in d:\n",
    "        if(d[i]>=2):\n",
    "            r.append(i)\n",
    "    # for i in r:\n",
    "    #     print(i)\n",
    "    max=0\n",
    "    p=[]\n",
    "    for i in r:\n",
    "        for j in range (0,n,1):\n",
    "            #print(l[j],end='')\n",
    "            if(i==l[j]):\n",
    "                c=j\n",
    "                #print(i,c,'l')\n",
    "                break\n",
    "                \n",
    "        for j in range(0,n,1):\n",
    "            #print(j)\n",
    "            if(i==l[j]):\n",
    "                k=j\n",
    "                #print(i,k,'k')\n",
    "                \n",
    "               \n",
    "        p.append(k-c)\n",
    "    for i in p:\n",
    "        if(max<i):\n",
    "            max=i\n",
    "    return max\n",
    "        \n",
    "\n",
    "\n",
    "# Main\n",
    "n=int(input())\n",
    "l=list( i for i in input().strip().split(' '))\n",
    "print(maxDistance(l))\n"
   ]
  },
  {
   "cell_type": "markdown",
   "metadata": {},
   "source": [
    "# Make Unique Array"
   ]
  },
  {
   "cell_type": "code",
   "execution_count": 3,
   "metadata": {},
   "outputs": [
    {
     "name": "stdout",
     "output_type": "stream",
     "text": [
      "5\n",
      "2 1 4 2 1\n",
      "2\n"
     ]
    }
   ],
   "source": [
    "def duplicateCount(arr):\n",
    "    s=set()\n",
    "    for i in arr:\n",
    "        s.add(i)\n",
    "    return n-len(s)\n",
    "\n",
    "# Main\n",
    "n=int(input())\n",
    "arr=list(int(i) for i in input().strip().split(' '))\n",
    "print(duplicateCount(arr))\n"
   ]
  },
  {
   "cell_type": "markdown",
   "metadata": {},
   "source": [
    "# First non repeating character"
   ]
  },
  {
   "cell_type": "code",
   "execution_count": 4,
   "metadata": {},
   "outputs": [
    {
     "name": "stdout",
     "output_type": "stream",
     "text": [
      "aDcadhc\n",
      "D\n"
     ]
    }
   ],
   "source": [
    "def nonRepeatingChar(string):\n",
    "    s={}\n",
    "    for i in string:\n",
    "        s[i]=s.get(i,0)+1\n",
    "    for i in string:\n",
    "        if(s[i]==1):\n",
    "            return i\n",
    "    # l=[ i for i in string.split('')]\n",
    "    # s=set()\n",
    "    # for i in l:\n",
    "    #     s.add(i)\n",
    "    return\n",
    "# Main\n",
    "string = input()\n",
    "print(nonRepeatingChar(string))\n"
   ]
  },
  {
   "cell_type": "markdown",
   "metadata": {},
   "source": [
    "# Different Names"
   ]
  },
  {
   "cell_type": "code",
   "execution_count": 5,
   "metadata": {},
   "outputs": [
    {
     "name": "stdout",
     "output_type": "stream",
     "text": [
      "Abhishek harshit Ayush harshit Ayush Iti Deepak Ayush Iti\n",
      "harshit 2\n",
      "Ayush 3\n",
      "Iti 2\n"
     ]
    }
   ],
   "source": [
    "def differentNames(l):\n",
    "    s={}\n",
    "    for i in l:\n",
    "        s[i]=s.get(i,0)+1\n",
    "    name={}\n",
    "    for i in l:\n",
    "        if(s[i]>1):\n",
    "            name[i]=s[i]\n",
    "    return name        \n",
    "    \n",
    "\n",
    "# Main\n",
    "names=input().strip().split()\n",
    "m=differentNames(names)\n",
    "if m:\n",
    "    for name in m:\n",
    "        print(name, m[name])\n",
    "else:\n",
    "    print(-1)\n"
   ]
  },
  {
   "cell_type": "markdown",
   "metadata": {},
   "source": [
    "# Even Count"
   ]
  },
  {
   "cell_type": "code",
   "execution_count": 6,
   "metadata": {},
   "outputs": [
    {
     "name": "stdout",
     "output_type": "stream",
     "text": [
      "6\n",
      "2 5 3 5 3 4\n",
      "5\n"
     ]
    }
   ],
   "source": [
    "def evenCount(arr):\n",
    "    s={}\n",
    "    for i in arr:\n",
    "        s[i]=s.get(i,0)+1\n",
    "    for i in arr:\n",
    "        if(s[i]%2==0):\n",
    "            return i\n",
    "    \n",
    "\n",
    "# Main\n",
    "n=int(input())\n",
    "arr=list(int(i) for i in input().strip().split(' '))\n",
    "print(evenCount(arr))\n"
   ]
  },
  {
   "cell_type": "markdown",
   "metadata": {},
   "source": [
    "# Unique triangles"
   ]
  },
  {
   "cell_type": "code",
   "execution_count": 7,
   "metadata": {},
   "outputs": [
    {
     "name": "stdout",
     "output_type": "stream",
     "text": [
      "5\n",
      "7 9 5 \n",
      "5 7 6\n",
      "8 2 9\n",
      "2 3 4\n",
      "2 4 3\n",
      "3\n"
     ]
    }
   ],
   "source": [
    "def uniqueTriangle(arr):\n",
    "    row = len(arr)\n",
    "    col = len(arr[0])\n",
    "    mp = {}\n",
    "    hel = {}\n",
    "    for i in range(row):\n",
    "        tri = arr[i]\n",
    "        tri.sort()\n",
    "        strA =[str(x) for x in tri]\n",
    "        strB=\"\"\n",
    "        strB = strB.join(strA)\n",
    "        if strB not in mp.values():\n",
    "            mp[i] = strB\n",
    "        else:\n",
    "            hel[i] = strB\n",
    "    count = 0\n",
    "    for i in range(row):\n",
    "        if i in mp:\n",
    "            val = mp.get(i)\n",
    "            if val not in hel.values():\n",
    "                count = count + 1\n",
    "    print(count)\n",
    "# Taking input\n",
    "n = int(input())\n",
    "arr = []\n",
    "for i in range(n):\n",
    "    row = [int(x) for x in input().strip().split()]\n",
    "    arr.append(row)\n",
    "uniqueTriangle(arr)\n"
   ]
  },
  {
   "cell_type": "markdown",
   "metadata": {},
   "source": [
    "# Pairs with difference K"
   ]
  },
  {
   "cell_type": "code",
   "execution_count": 1,
   "metadata": {},
   "outputs": [
    {
     "name": "stdout",
     "output_type": "stream",
     "text": [
      "4\n",
      "5 1 2 4\n",
      "3\n",
      "2 5\n",
      "1 4\n"
     ]
    }
   ],
   "source": [
    "def printPairDiffK(lst, k):\n",
    "    if k<0: # k is now non negative\n",
    "        k *= -1\n",
    "    \n",
    "    m = {}  #create  a dictionary for storing the frequency...\n",
    "\n",
    "    for e in lst:\n",
    "        if e+k in m:  #serch for l[i]+k in dictionary\n",
    "            for i1 in range(0,m[e+k]):   #if it there then print the times..acccordingly..\n",
    "                print(e, e+k)\n",
    "                \n",
    "        if k!=0 and e-k in m:     #this is same as above but when k!=0\n",
    "            for i2 in range(0,m[e-k]):\n",
    "                print(e-k, e)\n",
    "\n",
    "        # Update map        \n",
    "        if e in m:   #updating frequency...\n",
    "            m[e] += 1\n",
    "        else:\n",
    "            m[e] = 1\n",
    "    \n",
    "            \n",
    "\n",
    "\n",
    "n=int(input())\n",
    "l=list(int(i) for i in input().strip().split(' '))\n",
    "k=int(input())\n",
    "printPairDiffK(l, k)"
   ]
  },
  {
   "cell_type": "code",
   "execution_count": null,
   "metadata": {},
   "outputs": [],
   "source": []
  },
  {
   "cell_type": "code",
   "execution_count": null,
   "metadata": {},
   "outputs": [],
   "source": []
  },
  {
   "cell_type": "code",
   "execution_count": null,
   "metadata": {},
   "outputs": [],
   "source": []
  }
 ],
 "metadata": {
  "kernelspec": {
   "display_name": "Python 3",
   "language": "python",
   "name": "python3"
  },
  "language_info": {
   "codemirror_mode": {
    "name": "ipython",
    "version": 3
   },
   "file_extension": ".py",
   "mimetype": "text/x-python",
   "name": "python",
   "nbconvert_exporter": "python",
   "pygments_lexer": "ipython3",
   "version": "3.7.3"
  }
 },
 "nbformat": 4,
 "nbformat_minor": 2
}
