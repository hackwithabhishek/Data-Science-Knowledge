{
 "cells": [
  {
   "cell_type": "markdown",
   "metadata": {},
   "source": [
    "# Check number"
   ]
  },
  {
   "cell_type": "code",
   "execution_count": 1,
   "metadata": {},
   "outputs": [
    {
     "name": "stdout",
     "output_type": "stream",
     "text": [
      "-143\n",
      "Negative\n"
     ]
    }
   ],
   "source": [
    "a=int(input())\n",
    "if a==0:\n",
    "    print(\"Zero\")\n",
    "elif a>0:\n",
    "    print(\"Positive\")\n",
    "else:\n",
    "    print(\"Negative\")"
   ]
  },
  {
   "cell_type": "markdown",
   "metadata": {},
   "source": [
    "# Sum of n numbers"
   ]
  },
  {
   "cell_type": "code",
   "execution_count": 2,
   "metadata": {},
   "outputs": [
    {
     "name": "stdout",
     "output_type": "stream",
     "text": [
      "100\n",
      "5050\n"
     ]
    }
   ],
   "source": [
    "a=int(input())\n",
    "sum=0\n",
    "while a>0:\n",
    "    sum=sum+a\n",
    "    a=a-1\n",
    "print(sum) "
   ]
  },
  {
   "cell_type": "markdown",
   "metadata": {},
   "source": [
    "# Sum of Even Numbers"
   ]
  },
  {
   "cell_type": "code",
   "execution_count": 3,
   "metadata": {},
   "outputs": [
    {
     "name": "stdout",
     "output_type": "stream",
     "text": [
      "50\n",
      "650\n"
     ]
    }
   ],
   "source": [
    "a=int(input())\n",
    "sum=0\n",
    "while(a>0):\n",
    "    if(a%2==0):\n",
    "        sum=sum+a\n",
    "    a=a-1    \n",
    "print(sum)"
   ]
  },
  {
   "cell_type": "markdown",
   "metadata": {},
   "source": [
    "# Fahrenheit to Celsius"
   ]
  },
  {
   "cell_type": "code",
   "execution_count": 4,
   "metadata": {},
   "outputs": [
    {
     "name": "stdout",
     "output_type": "stream",
     "text": [
      "0\n",
      "100\n",
      "20\n",
      "0   -17\n",
      "20   -6\n",
      "40   4\n",
      "60   15\n",
      "80   26\n",
      "100   37\n"
     ]
    }
   ],
   "source": [
    "s=int(input())\n",
    "e=int(input())\n",
    "w=int(input())\n",
    "while(s<=e):\n",
    "    f=int((s-32)*5/9)\n",
    "    if(s//10==0):\n",
    "        print(s ,\" \", f)\n",
    "    elif(s//10<9):\n",
    "        print(s , \" \",f)\n",
    "    else:\n",
    "        print(s , \" \", f)\n",
    "        \n",
    "        \n",
    "    s=s+w"
   ]
  },
  {
   "cell_type": "markdown",
   "metadata": {},
   "source": [
    "# Calculator"
   ]
  },
  {
   "cell_type": "code",
   "execution_count": 6,
   "metadata": {},
   "outputs": [
    {
     "name": "stdout",
     "output_type": "stream",
     "text": [
      "3\n",
      "1\n",
      "2\n",
      "2\n",
      "4\n",
      "4\n",
      "2\n",
      "2\n",
      "1\n",
      "3\n",
      "2\n",
      "5\n",
      "7\n",
      "Invalid Operation\n",
      "6\n"
     ]
    }
   ],
   "source": [
    "a=int(input())\n",
    "while(a!=6):\n",
    "    if(a==1):\n",
    "        x=int(input())\n",
    "        y=int(input())\n",
    "        print(x+y)\n",
    "    elif(a==2):\n",
    "        x=int(input())\n",
    "        y=int(input())\n",
    "        print(x-y)\n",
    "    elif(a==3):\n",
    "        x=int(input())\n",
    "        y=int(input())\n",
    "        print(x*y)\n",
    "    elif(a==4):\n",
    "        x=int(input())\n",
    "        y=int(input())\n",
    "        print(x//y)\n",
    "    elif(a==5):\n",
    "        x=int(input())\n",
    "        y=int(input())\n",
    "        print(x%y)\n",
    "    else:\n",
    "        print(\"Invalid Operation\")   \n",
    "        \n",
    "    a=int(input())"
   ]
  },
  {
   "cell_type": "markdown",
   "metadata": {},
   "source": [
    "# Reverse of a number"
   ]
  },
  {
   "cell_type": "code",
   "execution_count": 7,
   "metadata": {},
   "outputs": [
    {
     "name": "stdout",
     "output_type": "stream",
     "text": [
      "78954\n",
      "45987\n"
     ]
    }
   ],
   "source": [
    "n=int(input())\n",
    "\n",
    "result=\"\"\n",
    "c=0\n",
    "while(n>0):\n",
    "    if(n%10!=0):\n",
    "        c=1\n",
    "        result=result+str(n%10)\n",
    "    if(n%10==0 and c==1):\n",
    "        result=result+str(n%10)\n",
    "    n=int(n/10)    \n",
    "if(result==\"\"):\n",
    "    print(\"0\")\n",
    "else:\n",
    "    print(result)"
   ]
  },
  {
   "cell_type": "markdown",
   "metadata": {},
   "source": [
    "# Palindrome number"
   ]
  },
  {
   "cell_type": "code",
   "execution_count": 8,
   "metadata": {},
   "outputs": [
    {
     "name": "stdout",
     "output_type": "stream",
     "text": [
      "54645\n",
      "true\n"
     ]
    }
   ],
   "source": [
    "def checkPalindrome(num):\n",
    "    a=num\n",
    "    rev=0\n",
    "    while(num>0):\n",
    "        last=num%10\n",
    "        num=num//10\n",
    "        rev=rev*10+last\n",
    "    if(a==rev):\n",
    "        return 1\n",
    "    else:\n",
    "        return 0\n",
    "\n",
    "num = int(input())\n",
    "isPalindrome = checkPalindrome(num)\n",
    "if(isPalindrome):\n",
    "    print('true')\n",
    "else:\n",
    "    print('false')"
   ]
  },
  {
   "cell_type": "markdown",
   "metadata": {},
   "source": [
    "# Sum of even & odd"
   ]
  },
  {
   "cell_type": "code",
   "execution_count": 9,
   "metadata": {},
   "outputs": [
    {
     "name": "stdout",
     "output_type": "stream",
     "text": [
      "1234\n",
      "6   4\n"
     ]
    }
   ],
   "source": [
    "n=int(input())\n",
    "sum=0\n",
    "sum1=0\n",
    "while(n>0):\n",
    "    a=n%10\n",
    "    n=n//10\n",
    "    if(a%2==0):\n",
    "        sum=sum+a\n",
    "    else:\n",
    "        sum1=sum1+a\n",
    "print(sum,\" \",sum1)"
   ]
  },
  {
   "cell_type": "markdown",
   "metadata": {},
   "source": [
    "# Nth Fibonacci number"
   ]
  },
  {
   "cell_type": "code",
   "execution_count": 10,
   "metadata": {},
   "outputs": [
    {
     "name": "stdout",
     "output_type": "stream",
     "text": [
      "50\n",
      "12586269025\n"
     ]
    }
   ],
   "source": [
    "a=1;\n",
    "b=1;\n",
    "n=int(input())\n",
    "while(n>2):\n",
    "    c=a+b\n",
    "    a=b\n",
    "    b=c\n",
    "    n=n-1\n",
    "print(c)    "
   ]
  },
  {
   "cell_type": "code",
   "execution_count": null,
   "metadata": {},
   "outputs": [],
   "source": []
  }
 ],
 "metadata": {
  "kernelspec": {
   "display_name": "Python 3",
   "language": "python",
   "name": "python3"
  },
  "language_info": {
   "codemirror_mode": {
    "name": "ipython",
    "version": 3
   },
   "file_extension": ".py",
   "mimetype": "text/x-python",
   "name": "python",
   "nbconvert_exporter": "python",
   "pygments_lexer": "ipython3",
   "version": "3.7.3"
  }
 },
 "nbformat": 4,
 "nbformat_minor": 2
}
